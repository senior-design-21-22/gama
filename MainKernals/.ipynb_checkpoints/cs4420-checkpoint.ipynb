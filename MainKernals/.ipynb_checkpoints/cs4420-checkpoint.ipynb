{
 "cells": [
  {
   "cell_type": "markdown",
   "id": "d9506328-9989-439b-a837-f58f5a935798",
   "metadata": {},
   "source": [
    "![CS 4420](images/cs4420-title.png)"
   ]
  },
  {
   "cell_type": "markdown",
   "id": "6ae8a04b-b075-426f-81aa-8d11cff62aa2",
   "metadata": {},
   "source": [
    "## **Course Description**\n",
    "In this class we cover in-depth coverage of computer operating systems and related computer architecture issues. Coverage of physical devices, interrupts, and communication between the computer and external hardware. Interfaces between user programs and the operating system, system calls, software interrupts, and protection issues. Context switching, process address spaces, and process scheduling. Process synchronization, interprocess communications, critical sections, and deadlock detection and recovery. Memory mapping, swapping, paging, and virtual memory."
   ]
  },
  {
   "cell_type": "markdown",
   "id": "184bc898-2a98-4a72-821e-93e1c09e9f28",
   "metadata": {},
   "source": [
    "## **Learning Outcomes**\n",
    "- Students will develop the ability to design and implement a simplified UNIX command interpreter.\n",
    "- Students will develop the ability to represent Boolean expressions in SOP and POS formats.\n",
    "- Students will gain a detailed understanding of demand paging.\n",
    "- Students will gain a detailed understanding of how processes are created, managed, and destroyed under UNIX.\n",
    "- Students will gain a detailed understanding of how to interact with generic memory, disk drives, and serial devices.\n",
    "- Students will gain a detailed understanding of the Unix command interpreter.\n",
    "- Students will gain a detailed understanding of the components of a process: CPU registers, memory, etc.\n",
    "- Students will gain a detailed understanding of the mechanisms for switching between modes on various kinds of hardware.\n",
    "- Students will gain a detailed understanding of the relationship between virtual memory and memory management."
   ]
  },
  {
   "cell_type": "markdown",
   "id": "5df1fdc6-f146-49ce-a146-4cb321053922",
   "metadata": {},
   "source": [
    "## **What You'll Learn**"
   ]
  },
  {
   "cell_type": "markdown",
   "id": "14863f62-4d85-4584-99af-38911de0c2fe",
   "metadata": {},
   "source": [
    "In this next example we are using system calls. Systemcalls are procedures that provides communicates between a process and the operating system. It is the way by which a computer program requests a service from the kernel of the operating system. There can be many differnt things. In this next example we will use system calls to convert characters in a file to all capitals letters.\n",
    "\n",
    "You can see the direct function of this by using the terminal. You can open a termial by hitting the pluse button in the top left and under the other section click on termial, then you can copy\n",
    "this command to see the output.\n",
    "\n",
    "You can find both the output.txt and testReadFile.txt in the src folder."
   ]
  },
  {
   "cell_type": "markdown",
   "id": "56fa9515-1975-4e85-b130-e92cf2e6ffde",
   "metadata": {},
   "source": [
    "tr a-z A-Z < ./src/testReadFile.txt > ./src/output.txt"
   ]
  },
  {
   "cell_type": "markdown",
   "id": "eb6bef42-b9e1-495f-9caa-fc7a881a8a52",
   "metadata": {},
   "source": [
    "You can now view the output.txt file and see how it is an all caps version of the testReadFile. Now we can see how realy execute these same kind of commands within C down below.\n",
    "\n",
    "You can look into the output file and change it to something that you would like. Then you can run the code below to change the text in the file."
   ]
  },
  {
   "cell_type": "code",
   "execution_count": 1,
   "id": "d13a741c-6d4c-4cd7-aba2-59dd590e6631",
   "metadata": {},
   "outputs": [],
   "source": [
    "/* Credit to DR. Osterman who porvided this example code */\n",
    "#include <fcntl.h>\n",
    "#include <unistd.h>\n",
    "#include <stdlib.h>\n",
    "#include <stdio.h>\n",
    "\n",
    "int fd, fout; /* file descriptors */\n",
    "const char *filename = \"./src/testReadFile.txt\";\n",
    "const char *filenameOut = \"./src/output.txt\";\n",
    "\n",
    "fd = open(filename, O_RDONLY, 0);\n",
    "if (fd == -1)\n",
    "{\n",
    "    perror(filename);\n",
    "    exit(0);\n",
    "}\n",
    "fout = open(filenameOut, O_RDWR, 0);\n",
    "if (fd == -1)\n",
    "{\n",
    "    perror(filename);\n",
    "    exit(0);\n",
    "}\n",
    "if (fork() == 0)\n",
    "{                           /* Child process */\n",
    "    dup2(fd, STDIN_FILENO); /* bind stdin to fd */\n",
    "    close(fd);              /* no longer needed */\n",
    "    dup2(fout, STDOUT_FILENO); /* bind stdin to fd */\n",
    "    close(fout);              /* no longer needed */\n",
    "    execl(\"/usr/bin/tr\", \"tr\", \"a-z\", \"A-Z\", NULL);\n",
    "    perror(\"tr\");\n",
    "    _exit(-1);\n",
    "}\n",
    "/* Parent process */"
   ]
  },
  {
   "cell_type": "markdown",
   "id": "677e112b-c5d3-4462-aea1-de2f43859a43",
   "metadata": {},
   "source": [
    "#### **Critical Section Problem**"
   ]
  },
  {
   "cell_type": "markdown",
   "id": "75384c43-c18e-4e01-9c34-f919f5fbf7d6",
   "metadata": {},
   "source": [
    "The critical section is a code segment where the shared variables can be accessed. An atomic action (only one process can execute at a time) is required in a critical section. As demonstrated in the diagram below. "
   ]
  },
  {
   "cell_type": "markdown",
   "id": "dc4912cf-9103-4671-a5ea-34be6121392f",
   "metadata": {},
   "source": [
    "do {\n",
    "    -Entry section <br>\n",
    "        -Critical section <br>\n",
    "    -Exit section    \n",
    "} while (TRUE);"
   ]
  },
  {
   "cell_type": "markdown",
   "id": "6cce346b-98f9-43a9-ad24-b876927a42b5",
   "metadata": {},
   "source": [
    "Entry section handles what enters the critical section and acquires the resources needed to execute. The exit section releases resources and informs other processes that the critical section is free."
   ]
  },
  {
   "cell_type": "markdown",
   "id": "99829c1b-a50e-4c5f-81f8-4410371a235d",
   "metadata": {},
   "source": [
    "The critical section problem needs a solution to synchronize the different processes and the solution to that must satisfy the following three conditions\n",
    "\n",
    "- Mutually Exclusion\n",
    "    - This implies that only one process can be inside the critical section at a time, any other process must wait until it is free\n",
    "- Progress\n",
    "    - If a process is not using the critical section, then it should not stop any other process form accessing it\n",
    "- Bounded Waiting\n",
    "    - Each process must have a limited waiting time, and should not wait endlessly to access the critical section"
   ]
  },
  {
   "cell_type": "markdown",
   "id": "6d5f9c3c-a9f8-4a2c-9280-443756040d58",
   "metadata": {},
   "source": [
    "You want the critical section to follow atomic actions in order to prevent race conditions\n",
    "    - A race condition happens when the result of multiple thread executions in a critical section differ according to the order in which they execute. "
   ]
  },
  {
   "cell_type": "markdown",
   "id": "a75e8713-776f-44af-80d8-f3e2405224d6",
   "metadata": {},
   "source": [
    "## **Conclusion**"
   ]
  },
  {
   "cell_type": "markdown",
   "id": "cc5e4321-db44-4985-88d6-5384816bce35",
   "metadata": {},
   "source": [
    "An operating system is the most important software that runs on a computer. It manages the computer's memory and processes, as well as all of its software and hardware. While also communicating with the computer without having to speak the computer's language. Above we reviewed how to use the OS to make and remove directories, how to return CPU memory modules, and how to output your computers CPU and memory information. Also we approached the critical section problem which is essential in ensuring that the code is interpreted by the OS correctly. These are fundamental topics that together give a good representation of what can be expected in the course. "
   ]
  }
 ],
 "metadata": {
  "kernelspec": {
   "display_name": "C++14",
   "language": "C++14",
   "name": "xcpp14"
  },
  "language_info": {
   "codemirror_mode": "text/x-c++src",
   "file_extension": ".cpp",
   "mimetype": "text/x-c++src",
   "name": "c++",
   "version": "14"
  }
 },
 "nbformat": 4,
 "nbformat_minor": 5
}
