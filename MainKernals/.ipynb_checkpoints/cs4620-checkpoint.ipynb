{
 "cells": [
  {
   "cell_type": "code",
   "execution_count": null,
   "id": "74856033-43d8-481c-bcb5-a3a2e80d9d90",
   "metadata": {},
   "outputs": [],
   "source": []
  },
  {
   "cell_type": "markdown",
   "id": "a388ea7c-9009-4c31-be9c-302229283b98",
   "metadata": {},
   "source": [
    "## **Course Description**\n",
    "\n",
    "CS 4620, or Database Systems, is an elective course in the CS cirriculum here at Ohio University. Students typically take this course their junior or senior year to satisfy their elective requirements for graduation. This course covers just about everything there is to know about databases. One of the major components of this course is designing databses, and learning how to determine the necessary features that need to be implemented for them to function properly and efficiently. There are many things to think about when it comes to designing a database, and you will learn about all of them in this course. Another important topic that is covered is this course is working with SQL to query data in a database. As a student in this course you will become proficient wiht SQL and relational algebra, which are the fundamentals of efficently querying data. This course is a lot of fun and is a fan-favorite among students. Towards the end of the course, students are tasked with a final project that involves designing and implementing their own database to solve real-world problems."
   ]
  },
  {
   "cell_type": "markdown",
   "id": "83ec7428-eaa6-48c3-a213-5267f3649df7",
   "metadata": {},
   "source": [
    "## **Learning Outcomes**\n",
    "\n",
    "- Students will develop the ability to design and implement a database based on models.\n",
    "- Students will develop the ability to draw an entity-relationship diagram to model an enterprise.\n",
    "- Students will develop the ability to embed SQL in a host programming language to implement transactions against a database.\n",
    "- Students will develop the ability to express a database query as a relational algebra expression.\n",
    "- Students will gain an understanding of database system components and how they fit together.\n",
    "- And many more!"
   ]
  },
  {
   "cell_type": "markdown",
   "id": "3545385c-9b52-4fb2-954f-a0ce186c5bba",
   "metadata": {},
   "source": [
    "## **What You'll Learn**"
   ]
  },
  {
   "cell_type": "markdown",
   "id": "f844a1f8-91d1-4119-9b66-a4109884076d",
   "metadata": {},
   "source": [
    "- ### **SQL**\n",
    "\n",
    "> SQL, short for Structured Query Language, is a standard language used widely across mulitple industries for accessing and      manipulating data within a database. SQL is the standard language for all relational database systems like Oracle, Microsoft SQL server, and Sybase. The tools provided within this language are all you, as a programmer, will ever need when working with databases. \n",
    ">> **What can SQL do?**\n",
    ">> - SQL can execute queries against a database\n",
    ">> - SQL can retrieve data from a database\n",
    ">> - SQL can insert, update, & delete records in a database\n",
    ">> - SQL can create new databases & new tables in databases\n",
    ">> - SQL can create stored procedures in a database\n",
    ">> - SQL can set permissions on tables, procedures, and views\n",
    "\n",
    "> SQL is an extremely helpful tool for communicating with databases, but one of the best features about it is that you are able to embed SQL commands into programs in languages like C++ and Python to automate your databases functionality. This is extremely helpful when working with large databases and also for databases that store data say from a website where users are constantly interacting with it.  "
   ]
  },
  {
   "cell_type": "markdown",
   "id": "97ed9cc5-8262-4172-906d-7180c3b5e44d",
   "metadata": {},
   "source": [
    "- ### **SQL Queries**\n",
    "> - Let's say we have a table in our Database called **STUDENTS** \n",
    "| F_NAME | L_NAME | AGE | YEAR | MAJOR | GPA | STUDENT_ID |\n",
    "|:------:|--------|-----|------|-------|-----|------------|\n",
    "| John   | Doe    | 19  | SOPH | CS    | 3.5 | 1018954    |\n",
    "| Mark   | Fret   | 21  | SEN  | EE    | 3.2 | 3244789    |\n",
    "| Sara   | Jones  | 20  | JUN  | ME    | 3.7 | 2693133    |\n",
    "> - We can run different SQL commands on the **STUDENTS** table in our DB to gather some information\n",
    "> - For example, what do you think will happen if were to run: **SELECT** AGE **FROM** STUDENTS **WHERE** F_NAME = John;\n",
    "> - Our command would return the age of everyone in our table whose name is John. There is only one John in our table and here is **19** years old\n",
    "> - How about if we run: **SELECT** YEAR, MAJOR **FROM** STUDENTS **WHERE** F_NAME = Sara **AND** L_NAME = Jones;\n",
    "> - Our command would return the set { JUN, ME }, because that is the year and major of the one person in the **STUDENTS** table whose name is Sara Jones.\n",
    "\n",
    "> - As you can most likely see from the above example, SQL is a very easy language to get the hang of. One of the most important things to note about SQL queries is that they all contain a **SELECT** command, a **FROM** command, and most of the time a **WHERE** command.\n",
    "> - SQL can become a bit more difficult when working with larger databases because you have to take a lot more things into consideration. Like primary keys, foreign keys, and many other things you will learn about in this course."
   ]
  },
  {
   "cell_type": "markdown",
   "id": "f8c10e58-680e-411f-9c28-6e09f8466e63",
   "metadata": {},
   "source": [
    "## **Aaron's Example**"
   ]
  },
  {
   "cell_type": "code",
   "execution_count": null,
   "id": "242bc083-c758-4623-9d80-618bc664790b",
   "metadata": {},
   "outputs": [],
   "source": []
  }
 ],
 "metadata": {
  "kernelspec": {
   "display_name": "Python 3",
   "language": "python",
   "name": "python3"
  },
  "language_info": {
   "codemirror_mode": {
    "name": "ipython",
    "version": 3
   },
   "file_extension": ".py",
   "mimetype": "text/x-python",
   "name": "python",
   "nbconvert_exporter": "python",
   "pygments_lexer": "ipython3",
   "version": "3.8.2"
  }
 },
 "nbformat": 4,
 "nbformat_minor": 5
}
