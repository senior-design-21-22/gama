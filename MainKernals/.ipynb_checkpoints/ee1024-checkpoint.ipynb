{
 "cells": [
  {
   "cell_type": "markdown",
   "id": "ecb71dd3-499e-4481-95df-efecc8893339",
   "metadata": {},
   "source": [
    "![EE1024 logo](images/ee1024-logo.png)"
   ]
  },
  {
   "cell_type": "markdown",
   "id": "44b03d00-6f5a-411c-b037-efbd1461e6de",
   "metadata": {},
   "source": [
    "## **Course Description**"
   ]
  },
  {
   "cell_type": "markdown",
   "id": "5ac6bf03-0e92-43a6-a59a-9c7d429bb9bf",
   "metadata": {},
   "source": [
    "EE 1024 will be every student in computer science's first introduction into the basics of computer enginneering. This course will build your knowledge on exactly how computers operate at their lowest level possible. You will learn how computers process data and how they convert numbers to various bases including (decimal, binary, and hexadecimal). Another important topic you will cover in this class is logic and how computers make decisions. As a students in this course you will learn all about Boolean Algebra, Binary Arithmetic, and the charactersistics of Logic Gates which are the building blocks of Computers and Computer Engineering. All students are also required to participate in lab for this course where you can real hands-on experience working with the topics that are taught in lecture."
   ]
  },
  {
   "cell_type": "markdown",
   "id": "06eabeff-181d-4d00-a04a-5a19426a7793",
   "metadata": {},
   "source": [
    "## **What You'll Learn**\n",
    "\n",
    "### **Representing Numbers in Various Bases**\n",
    "\n",
    ">#### **- Decimal Notation**\n",
    "Decimal Notation is the most common way to express numbers. This is the way we normally express numbers in our normal everyday lives. Decimal notation is considered to be expressing numbers in a base 10 format. For example, when we write a normal (base 10) number, like 7938, we mean the value: 7000 + 900 + 80 + 3 <br> \n",
    ">- To put this in a more revealing form, we can do: (7 * 10<sup>3</sup>) + (9 * 10<sup>2</sup>) + (8 * 10<sup>1</sup>) + (3 * 10<sup>0</sup>). Notice that the digits of our number correspond to coefficients on the powers of 10 that our added together to obtain the value of our number.<br> \n",
    ">>Decimal notation is how you've represented numbers your whole lives, but next you will see others ways to represent the same numbers.\n",
    "\n",
    ">#### **- Binary Notation**\n",
    "The next way to represent numbers is a little bit more difficult for beginners to grasp. Binary notation is how we express numbers in base 2 format using only 0's and 1's. It is important to learn about binary because this is how computers store numbers in their hardware ... as bits! Similar to decimal notation, each digit represents a power of 2 ... where as in decimal it is a power of 10. How do we represent numbers in base 2? is probably your first question and we're going to show you here!\n",
    ">>##### **Binary Representation**\n",
    "| Number (Base 10) | Conversion | Number (Base 2) |\n",
    "| :---             |   :----:   |            ---: |\n",
    "| 0<sub>10</sub>   | 0(2<sup>0</sup>) | 0<sub>2</sub>  |\n",
    "| 1<sub>10</sub>   | 1(2<sup>0</sup>) | 1<sub>2</sub>  |\n",
    "| 2<sub>10</sub>   | 1(2<sup>1</sup>) + 0(2<sup>0</sup>) | 10<sub>2</sub>  |\n",
    "| 3<sub>10</sub>   | 1(2<sup>1</sup>) + 1(2<sup>0</sup>) | 11<sub>2</sub>  |\n",
    "| 4<sub>10</sub>   | 1(2<sup>2</sup>) + 0(2<sup>1</sup>) + 0(2<sup>0</sup>) | 100<sub>2</sub>  |\n",
    "| 5<sub>10</sub>   | 1(2<sup>2</sup>) + 0(2<sup>1</sup>) + 1(2<sup>0</sup>) | 101<sub>2</sub>  |\n",
    "\n",
    ">#### **- Hexadecimal Notation**\n",
    "The Hexadecimal number system is closely related to the binary number system because we often use it to represent binary (base 2) numbers more compactly instead of just using a whole lot of 0's and 1's. The main reason we use hexadecimal numbers in computer science and engineering is because it provides a more human friendly representation and it is much easier to express binary representations in hex than it is in any other base number system. <br>Hexadecimal notation uses a base of 16 so all of the digits we use to represent numbers must be in the range of 0 - 15. Computers don't actually work in hexadecimal, it just makes it easier for humans to understand what is going on by representing large binary numbers in this way. Let's take a look at an example using a byte: <br> \n",
    ">- So we know that 1 byte = 8 bits. It can store the values from 0 to 255 ( 0000 0000 to 1111 1111). Each hex digit represents four binary digits. <br>\n",
    ">- For example, a single byte can have values ranging from 0000 0000 to 1111 1111 in binary form and can be easily represented as 00 to FF in hexadecimal.\n",
    ">>##### **Hexedecimal Representation**\n",
    "Lets take a hexadecimal number (base 16) and convert it to a decimal number (base 10)\n",
    "| Number (Base 16) | Conversion | Number (Base 10) |\n",
    "| :---             |   :----:   |            ---:  |\n",
    "| 0xF4<sub>16</sub> | 15(16<sup>1</sup>) + 4(16<sup>0</sup>) | 240<sub>10</sub> + 4<sub>10</sub> = 244<sub>10</sub> |"
   ]
  },
  {
   "cell_type": "markdown",
   "id": "5434ca6a-5809-4cf2-a040-8d38d9a39a21",
   "metadata": {},
   "source": [
    "### **Aaron's example here**\n",
    "..."
   ]
  },
  {
   "cell_type": "markdown",
   "id": "a331fbf4-4176-428a-8f01-663f9c001d13",
   "metadata": {},
   "source": [
    "## **Conclusion**\n",
    "..."
   ]
  }
 ],
 "metadata": {
  "kernelspec": {
   "display_name": "Python 3",
   "language": "python",
   "name": "python3"
  },
  "language_info": {
   "codemirror_mode": {
    "name": "ipython",
    "version": 3
   },
   "file_extension": ".py",
   "mimetype": "text/x-python",
   "name": "python",
   "nbconvert_exporter": "python",
   "pygments_lexer": "ipython3",
   "version": "3.8.2"
  }
 },
 "nbformat": 4,
 "nbformat_minor": 5
}
