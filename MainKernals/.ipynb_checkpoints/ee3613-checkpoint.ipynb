{
 "cells": [
  {
   "cell_type": "markdown",
   "id": "b661e8d1-442e-4293-ad73-83180a42318c",
   "metadata": {},
   "source": [
    "![EE3613 logo](images/ee3613-logo.png)"
   ]
  },
  {
   "cell_type": "markdown",
   "id": "b28b8d97-2fee-4204-a2b9-8765cd9c4379",
   "metadata": {},
   "source": [
    "## **Course Description**\n",
    "EE 3613 (Computer Organization and Architecture) is a course that has an emphasis in various topics - Which includes the design of single and multicore architectures; quantitative cost, performance-power trade-offs, Amdahl’s Law, instruction set architecture (RISC), assembly language programming, number representations, adders and simple ALUs, integer and floating point computer arithmetic, single and multi-cycle implementation of control and data-path design, pipelining with hazard detection, memory hierarchy and memory management, cache and virtual memory, and I/O devices. "
   ]
  },
  {
   "cell_type": "markdown",
   "id": "ac1bb1ce-bfa8-483f-b864-1ff29483ed94",
   "metadata": {},
   "source": [
    "## **What You'll Learn**\n",
    "Three important topics covered in EE 3613 include computer performance, coding in an instruction set architecture language, and computer arithmetic. Important computer performance concepts include formulas relating clock cycles, clock rate, CPI, CPU execution time, and more. \"MIPS\" is an example of an instruction set architecture, in which you will learn how to code in. An Instruction Set Architecture (ISA) is part of the abstract model of a computer that defines how the CPU is controlled by the software. The ISA acts as an interface between the hardware and the software, specifying both what the processor is capable of doing as well as how it gets done. Finally, you will learn how a computer performes arithmetic - including storing numbers in 2's compliment form.\n",
    "### **Computer Performance**\n",
    "The formulas listed below are important in determining the performance of a computer.\n",
    "- Performance(x) = 1 / CPU Execution Time(x)\n",
    "- CPU Execution Time = Number CPU Clock Cycles · Clock Cycle Time\n",
    "- CPU Execution Time = Number CPU Clock Cycles / Clock Rate\n",
    "- Number CPU Clock Cycles = Number Instructions · Average Clock Cycles Per Instruction\n",
    "\n",
    "**Example 1:** Your program runs in 24 seconds on computer A which runs at a 2.7GHz clock rate. Suppose you want to be able to run this program in 14 seconds on a new computer B, which is able to run at a higher clock rate, but requires 1.3 times as many clock cycles as computer A for the same program. Using the formulas above, calculate the clock rate for computer B."
   ]
  },
  {
   "cell_type": "markdown",
   "id": "0749e8f3-fb2e-45e8-9ceb-84f188b4da74",
   "metadata": {},
   "source": [
    "![Ex1](images/ee3613-ex1.png)"
   ]
  },
  {
   "cell_type": "markdown",
   "id": "87c33cc4-c1b6-4eab-8ecb-d6d3b36085fd",
   "metadata": {},
   "source": [
    "### **Instruction Set Architecture**\n",
    "MIPS (Microprocessor without Interlocked Pipelined Stages), is a reduced instruction set computer (RISC) instruction set architecture (ISA). In this class, you will learn how to program in assembly language using MIPS. Listed below is a table that contains common MIPS instructions:"
   ]
  },
  {
   "cell_type": "markdown",
   "id": "802b511d-766e-4b2b-84cd-62ee22c25378",
   "metadata": {},
   "source": [
    "![EE3613 logo](images/mips-commands.png)"
   ]
  },
  {
   "cell_type": "raw",
   "id": "1b5d0a7e-e82f-4453-91e3-6a807a9ef096",
   "metadata": {},
   "source": [
    "Example 2: Consider the following equation written in the programming language C (or C++): \n",
    "A[10] = a + b + A[9];\n",
    "... Assume that a is in register $s1, b is in register $s2, the base address of array A in $s3. Furthermore, assume the variables and the array all contain 32-bit integers. What is the MIPS assembly code for this equation?"
   ]
  },
  {
   "cell_type": "raw",
   "id": "b5fc6958-b7ee-429a-8323-86b46cf5bbed",
   "metadata": {},
   "source": [
    "Solution:\n",
    "\n",
    "lw $t0, 36($s3)\n",
    "add $t0, $s2, $t0 \n",
    "add $t0, $s1, $t0\n",
    "sw $t0, 40($s3)"
   ]
  },
  {
   "cell_type": "raw",
   "id": "9a5c3471-c78b-45df-ac9f-abc3a836f768",
   "metadata": {},
   "source": [
    "Example 3: Create a MIPS program to calculate the sum of the first n natural numbers (i.e., calculate sum=1+2+...+n). Assume that n is given (in register $s0), that the sum will be calculated using register $s1 (you must set it to zero first), and the result should be copied into register $v0 at the end of the program."
   ]
  },
  {
   "cell_type": "raw",
   "id": "55e7e427-2af0-4d58-a7f2-dbd052494764",
   "metadata": {},
   "source": [
    "Solution:\n",
    "\n",
    "li $s1, 0                   # $s0 <- ‘n’\n",
    "loop:\n",
    "     add $s1, $s1, $s0\n",
    "     add $s0, $s0, -1\n",
    "     bne $s0, $zero, loop\n",
    "     add $v0, $zero, $s1    # now copy $s1 into $v0"
   ]
  },
  {
   "cell_type": "markdown",
   "id": "e5c049c4-15e3-4006-a70e-cd008b673c6d",
   "metadata": {},
   "source": [
    "### **Computer Arithmetic**\n",
    "Two's complement is the most common method of representing signed integers on computers, and more generally, fixed point binary values. In two's complement notation, a non-negative number is represented by its ordinary binary representation; in this case, the most significant bit is 0. Though, the range of numbers represented is not the same as with unsigned binary numbers. For example, an 8-bit unsigned number can represent the values 0 to 255 (11111111). However a two's complement 8-bit number can only represent positive integers from 0 to 127 (01111111), because the rest of the bit combinations with the most significant bit as '1' represent the negative integers −1 to −128. To represent a POSITIVE decimal number in two's complement, convert the decimal number to binary. To represent a NEGATIVE decimal number in two's complement, there are three steps. First, convert the decimal number to binary. Next, invert each digit in that binary number. Finally, add one, and that is your answer."
   ]
  },
  {
   "cell_type": "markdown",
   "id": "1a469b63-8e8e-4ee1-86ce-4f2fd65b098e",
   "metadata": {},
   "source": [
    "**Example 4:** Assume 4-bit signed numbers. What is the 2’s complement representation for the following decimal numbers (or indicate that the number cannot be represented as 4-bit signed type):\n",
    "- a.) 3\n",
    "- b.) -9\n",
    "- c.) -1\n",
    "- d.) -7\n",
    "- e.) 8"
   ]
  },
  {
   "cell_type": "raw",
   "id": "63c4192a-b42a-4170-8355-ab3a9cb4a911",
   "metadata": {},
   "source": [
    "Solution: \n",
    "\n",
    "a.) 3 (decimal) = 0011 (binary)\n",
    "\n",
    "b.) -9 (decimal) can not be represented as 4-bit signed because it exceeds the smallest negative number (= - 8)\n",
    "\n",
    "c.) -1 (decimal) = \n",
    "    take 1 (decimal): 0001 (binary)\n",
    "    invert:           1110 (binary)\n",
    "    add 1:            1111 (binary)\n",
    "\n",
    "d.) -7 (decimal) = \n",
    "    take 7 (decimal): 0111 (binary)\n",
    "    invert:           1000 (binary)\n",
    "    add 1:            1001 (binary)\n",
    "\n",
    "\n",
    "e.) 8 (decimal): This number exceeds to largest positive number in 2’s complement (which is 7)."
   ]
  },
  {
   "cell_type": "markdown",
   "id": "89a84260-d7b3-4730-8148-c1f1b5496639",
   "metadata": {},
   "source": [
    "## **Conclusion**\n"
   ]
  }
 ],
 "metadata": {
  "kernelspec": {
   "display_name": "Python 3 (ipykernel)",
   "language": "python",
   "name": "python3"
  },
  "language_info": {
   "codemirror_mode": {
    "name": "ipython",
    "version": 3
   },
   "file_extension": ".py",
   "mimetype": "text/x-python",
   "name": "python",
   "nbconvert_exporter": "python",
   "pygments_lexer": "ipython3",
   "version": "3.9.9"
  }
 },
 "nbformat": 4,
 "nbformat_minor": 5
}
