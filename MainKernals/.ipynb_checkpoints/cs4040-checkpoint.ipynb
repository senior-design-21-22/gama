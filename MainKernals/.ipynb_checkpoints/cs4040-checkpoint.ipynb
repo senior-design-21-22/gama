{
 "cells": [
  {
   "cell_type": "markdown",
   "id": "e6a7e695-a0bb-4633-a7c4-b596a901fddb",
   "metadata": {},
   "source": [
    "![cs4040 logo](images/cs4040.png)"
   ]
  },
  {
   "cell_type": "markdown",
   "id": "360288bf-e1a6-453f-a675-9d5a529a4806",
   "metadata": {},
   "source": [
    "## **Course Description**\n"
   ]
  },
  {
   "cell_type": "markdown",
   "id": "7a983439-4bf9-450e-a3eb-db798e420ca3",
   "metadata": {},
   "source": [
    "CS 4040 - Design and Analysis of Algorithms is one of the more challenging courses in the computer science cirriculum here at Ohio University. As a student in this course one of the most important topics you will learn about is how to analyze the complexity and correctness of different algorithms. Learning about the fundementals of algorithm analysis in the first half of the course will help you succeed in the second half of the course where topics like dynamic programming, greedy algorithms, and divide and conquer algorithms are covered. Great algorithm design and analysis skills are of some of the most important outcomes as a student in computer science and this is why there is an entire course dedicated to this area. This course will test your skills to the fullest and challenge you to become an expert in algorithms design and analysis. "
   ]
  },
  {
   "cell_type": "markdown",
   "id": "f52e03d4-1f17-4815-825d-e70291634292",
   "metadata": {},
   "source": [
    "## **What You'll Learn**"
   ]
  },
  {
   "cell_type": "markdown",
   "id": "affdc8c7-3834-40de-9f0b-60f99b2463a2",
   "metadata": {},
   "source": [
    "### **Sorting Algorithms**"
   ]
  },
  {
   "cell_type": "markdown",
   "id": "ffa86641-0cb0-4d2c-bdfc-254a294b26b1",
   "metadata": {},
   "source": [
    "Q: Why are there so many different sorting algorithms?\n",
    "\n",
    "A: There are so many different sorting algorithms used in modern tech development today because they all satisfy different sorting use-cases. Whatever you are trying to implement a sorting algorithm into, there is going to be optimized sort for that situation. One of the most difficult parts of this process is figuring out exactly which algorithm is going to work the best in that situation. For example, the insertion sort algorithm is perfect under circumstances where you're array or set of numbers is almost sorted. This is because the time complexity of insertion sort on almost sorted data is linear or O(n). Another example would be Heapsort. Heapsort is very good for sorting arrays, it's run-time is very predictable because the best, average, and worst cases are all the same, and it does not use any extra memory. Sorting algorithms are unique in the way they actually sort data and require a bit of knowledge beforehand when you make the decision on exactly what sorting algorithm you are going to choose to implement into your project.\n",
    "\n"
   ]
  },
  {
   "cell_type": "markdown",
   "id": "0fc690a8-338f-41b1-b536-098ff552e922",
   "metadata": {},
   "source": [
    "#### **Bubble Sort**"
   ]
  },
  {
   "cell_type": "markdown",
   "id": "bc19ec1e-1aa4-4c61-8246-8795f492d2ca",
   "metadata": {},
   "source": [
    "Bubble sort is one of the first sorting algorithms you will learn about here at Ohio University or anywhere really. Bubble sort is notorious for being the easiest sort to implement because it doesn't take much code to get it working. It works by repeatedly swapping adjacent elements in an array if they are in the wrong order ... until they are in the correct order. So, the most an element can move is one place per iteration. The drawback with this sort is it's overall time complexity. Bubble sort's overall time complexity in the average and worst-case is O(n * n), where n is the number of elements in the array. This run-time is exponential and there plenty of different sort's that perform a lot better than bubble sort. "
   ]
  },
  {
   "cell_type": "code",
   "execution_count": 5,
   "id": "f5a24665-7181-409c-a8fa-ab0d306c192e",
   "metadata": {},
   "outputs": [
    {
     "name": "stdout",
     "output_type": "stream",
     "text": [
      "Sorted array: [8, 17, 31, 49, 54, 61, 65, 78]\n"
     ]
    }
   ],
   "source": [
    "# Implementation of Bubble sort\n",
    "\n",
    "def bubbleSort(arr):\n",
    "    \n",
    "    n = len(arr)\n",
    "    \n",
    "    # Traverse through each indivdual element in the array\n",
    "    for i in range(n):\n",
    "        \n",
    "        # the last i elements are already in place\n",
    "        for j in range(0, n-i-1):\n",
    "            \n",
    "            # Swap the elements if the element found is greater\n",
    "            # than the next element\n",
    "            if arr[j] > arr[j+1]:\n",
    "                arr[j], arr[j+1] = arr[j+1], arr[j]\n",
    "                \n",
    "\n",
    "# Driver code to test the bubble sort implementation\n",
    "# Feel free to change the numbers around!\n",
    "arr = [54, 78, 31, 65, 49, 8, 61, 17]\n",
    "bubbleSort(arr)\n",
    "\n",
    "# Output the array\n",
    "print(f'Sorted array: {arr}')"
   ]
  },
  {
   "cell_type": "markdown",
   "id": "aa1d38c5-2bcb-4a8e-9a23-f41971f8aed1",
   "metadata": {},
   "source": [
    "#### **Quicksort**"
   ]
  },
  {
   "cell_type": "markdown",
   "id": "f7b6798d-58bf-43d6-9a83-d01043f2e982",
   "metadata": {},
   "source": [
    "Quicksort is one of the most complex sorting algorithms you will learn about in this course. Unlike bubble sort, it is a bit more difficult to implement and there are few different ways you can do it, depending on the data you plan on sorting. Quicksort is a divide and conquer algorithm, so it divides up the array, sorts the sub-arrays, and puts it all back together all in one semi-complex algorithm. Many developers and engineers use quicksort because of how fast it can be in certain situations. Quicksort's best and average time complexity O(log n), which is a lot faster than an algorithm like bubble sort. The one downfall of quicksort is it's worst-case run time complexity. If the pivot is chosen poorly, quicksort could possibly run in O(n^2) time ... which is the same as bubble sort, and also extremely slow compared to it's best and average cases. Quicksort can be a very good choice for a sorting algorithm, but you have to know how it works and understand how to avoid the worst case run time."
   ]
  },
  {
   "cell_type": "code",
   "execution_count": 6,
   "id": "bc9b2cc2-3219-41f8-b1b5-f1dd6eae25ba",
   "metadata": {},
   "outputs": [
    {
     "name": "stdout",
     "output_type": "stream",
     "text": [
      "Sorted array: [8, 17, 31, 49, 54, 61, 65, 78]\n"
     ]
    }
   ],
   "source": [
    "# implementation of QuickSort  \n",
    "  \n",
    "# This Function handles sorting\n",
    "# The start and end parameters point to the first\n",
    "# and last elements in the array being sorted\n",
    "def partition(start, end, array):\n",
    "      \n",
    "    # Initializing pivot's index to start\n",
    "    pivot_index = start \n",
    "    pivot = array[pivot_index]\n",
    "      \n",
    "    # This loop runs till start pointer crosses \n",
    "    # end pointer, and when it does we swap the\n",
    "    # pivot with element on end pointer\n",
    "    while start < end:\n",
    "          \n",
    "        # Increment the start pointer till it finds an \n",
    "        # element greater than  pivot \n",
    "        while start < len(array) and array[start] <= pivot:\n",
    "            start += 1\n",
    "              \n",
    "        # Decrement the end pointer till it finds an \n",
    "        # element less than pivot\n",
    "        while array[end] > pivot:\n",
    "            end -= 1\n",
    "          \n",
    "        # If start and end have not crossed each other, \n",
    "        # swap the numbers on start and end\n",
    "        if(start < end):\n",
    "            array[start], array[end] = array[end], array[start]\n",
    "      \n",
    "    # Swap pivot element with element on end pointer.\n",
    "    # This puts pivot on its correct sorted place.\n",
    "    array[end], array[pivot_index] = array[pivot_index], array[end]\n",
    "     \n",
    "    # Returning end pointer to divide the array into 2\n",
    "    return end\n",
    "      \n",
    "# The main function that implements QuickSort \n",
    "def quick_sort(start, end, array):\n",
    "      \n",
    "    if (start < end):\n",
    "          \n",
    "        # p is partitioning index, array[p] \n",
    "        # is at right place\n",
    "        p = partition(start, end, array)\n",
    "          \n",
    "        # Sort elements before partition \n",
    "        # and after partition\n",
    "        quick_sort(start, p - 1, array)\n",
    "        quick_sort(p + 1, end, array)\n",
    "\n",
    "        \n",
    "# Driver code to test the above implementation\n",
    "# Feel free to change the numbers around in the array!\n",
    "array = [54, 78, 31, 65, 49, 8, 61, 17]\n",
    "quick_sort(0, len(array) - 1, array)\n",
    "  \n",
    "print(f'Sorted array: {array}')"
   ]
  },
  {
   "cell_type": "markdown",
   "id": "faf77781-9d04-4735-9a9e-4d425a6e3d99",
   "metadata": {},
   "source": [
    "### **Dynamic Programming**"
   ]
  },
  {
   "cell_type": "markdown",
   "id": "72f339a9-a7c2-4547-838a-09108c23afa2",
   "metadata": {},
   "source": [
    "Q: What exactly is Dynamic Programming?\n",
    "\n",
    "A: Dynamic Programming is an algorithmic technique that you will actively learn to apply to programming problems in this course. The technique involves solving a problem by recursively breaking the main problem down into simpler subproblems. Once you've broken the problem down, the optimal solution to the overall problem depends on the optimal solutions to all of it's subproblems. A Dynamic programming algorithm solves each subproblem once, and then remembers it's answer. This attribute of DP algorithms avoids re-computing the answer to the similar sub-problems every time, ultimately speeding up the run-time of the algorithm and solving the problem more efficiently."
   ]
  },
  {
   "cell_type": "markdown",
   "id": "1ecb41d3-665e-468c-bec3-61c16aebba81",
   "metadata": {},
   "source": [
    "#### **Longest Common Subsequence**"
   ]
  },
  {
   "cell_type": "markdown",
   "id": "3b11a630-e0e1-47b5-bd8d-ccfe9a835c97",
   "metadata": {},
   "source": [
    "One of the most relevant problems that can be solved with the Dynamic Programming technique is the Longest Common Subsequence problem. The longest common subsequence problem is as follows: Given two sequences, find the length of the longest common subsequence present in both of them. A subsequence is is a sequence that appears in the same relative order, but is not neccessarily contiguous. For example, “abc”, “abg”, “bdf”, “aeg”, ‘”acefg”, .. etc are subsequences of “abcdefg”. Our goal is to find the longest common subsequence of two strings in a dynamic programming manner. "
   ]
  },
  {
   "cell_type": "code",
   "execution_count": 8,
   "id": "66b5f2a9-ebe4-4091-814a-672b717a8205",
   "metadata": {},
   "outputs": [
    {
     "name": "stdout",
     "output_type": "stream",
     "text": [
      "Length of LCS is: 4\n"
     ]
    }
   ],
   "source": [
    "# Dynamic Programming implementation of LCS problem\n",
    " \n",
    "def LCS(str1 , str2):\n",
    "    # find the length of the strings\n",
    "    m = len(str1)\n",
    "    n = len(str2)\n",
    " \n",
    "    # declaring the array for storing the dp values\n",
    "    L = [[None]*(n+1) for i in range(m+1)]\n",
    " \n",
    "    \"\"\"Following steps build L[m+1][n+1] in bottom up fashion\n",
    "    Note: L[i][j] contains length of LCS of X[0..i-1]\n",
    "    and Y[0..j-1]\"\"\"\n",
    "    for i in range(m+1):\n",
    "        for j in range(n+1):\n",
    "            if i == 0 or j == 0 :\n",
    "                L[i][j] = 0\n",
    "            elif str1[i-1] == str2[j-1]:\n",
    "                L[i][j] = L[i-1][j-1]+1\n",
    "            else:\n",
    "                L[i][j] = max(L[i-1][j] , L[i][j-1])\n",
    " \n",
    "    # L[m][n] contains the length of LCS of X[0..n-1] & Y[0..m-1]\n",
    "    return L[m][n]\n",
    "#end of function lcs\n",
    " \n",
    " \n",
    "# Driver program to test the above function\n",
    "str1 = \"AGGTAB\"\n",
    "str2 = \"GXTXAYB\"\n",
    "print(f'Length of LCS is: {LCS(str1, str2)}')"
   ]
  },
  {
   "cell_type": "markdown",
   "id": "f3b50442-de19-4b46-b3a7-c1065a20227a",
   "metadata": {},
   "source": [
    "#### **Analysis**"
   ]
  },
  {
   "cell_type": "markdown",
   "id": "d7647441-f345-4370-8317-c677a9a21286",
   "metadata": {},
   "source": [
    "The above implementation of Longest Common Subsequence problem computes the length of the LCS between str1 and str2 using Dynamic Programming. The overall time complexity of this DP implementation is O(mn) where m is the length of str1 and n is the length of str2. Using Dynamic programming techniques to solve problems in computer science can speed up your code tremendously. The overall time complexity of naive recursive approach to this problem is O(2^n). Meaning once you start to run that code on very large sets of strings, your program could take hours or even days to finish. In computer science we are always looking for new ways to speed up our algorithms, and Dynamic Programming is just one of several ways of doing so."
   ]
  },
  {
   "cell_type": "markdown",
   "id": "5e29d6a8-9c81-4b4a-b997-5129657570f0",
   "metadata": {},
   "source": [
    "## **Conclusion**"
   ]
  },
  {
   "cell_type": "markdown",
   "id": "0b8832c8-eba3-4857-bce5-d395259a9dbb",
   "metadata": {},
   "source": [
    "Although this course is one of the hardest courses you will take as a student in computer science here at Ohio University, you will learn so much about algorithm analysis and design ... which will help you tremendously in your career as a student as well as in your professional life. Sorting algorithms and Dynamic Programming are just two of the many topics that are covered in this course. You will also learn about analysis topics like recurrence relations, solving recurrence relations using the master method, and Design topics like greedy programming techniques, and divide and conquer techniques. Once you finish this course, you will be an expert in everything algorithms!"
   ]
  }
 ],
 "metadata": {
  "kernelspec": {
   "display_name": "Python 3 (ipykernel)",
   "language": "python",
   "name": "python3"
  },
  "language_info": {
   "codemirror_mode": {
    "name": "ipython",
    "version": 3
   },
   "file_extension": ".py",
   "mimetype": "text/x-python",
   "name": "python",
   "nbconvert_exporter": "python",
   "pygments_lexer": "ipython3",
   "version": "3.9.9"
  }
 },
 "nbformat": 4,
 "nbformat_minor": 5
}
