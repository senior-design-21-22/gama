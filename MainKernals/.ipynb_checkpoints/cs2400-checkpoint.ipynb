{
 "cells": [
  {
   "cell_type": "markdown",
   "id": "4d5cc06d-10c9-4176-8dcb-15b3c3383937",
   "metadata": {
    "deletable": false,
    "editable": false,
    "tags": []
   },
   "source": [
    "![CS 2400](images/cs2400-title.png)"
   ]
  },
  {
   "cell_type": "markdown",
   "id": "432326a6-553d-4d49-b55d-2db425137065",
   "metadata": {},
   "source": [
    "## **Course Description**\n",
    "\n",
    "CS 2400 is one of the first and most exciting courses new computer science students will take here at Ohio University! In this course you will dive into a bunch of different topics that are programming related, and really get a grasp of what programming is and what it takes to be a programmer. Early in the course you will learn about the basic concepts of the C++ programming language. Some of these concepts include: data types, variables, loops, flow of control, and even creating functions. Even though to some, these topics may seem elementary, understanding these concepts like the back of your hand is crucial for becoming a successful CS student in the future. The difficulty begins to increase in the second half of the course when topics are covered like: objects, classes, dynamic memory, polymorphism, and abstract data types. Learning and applying these concepts may be challenging, but this class is one of the most favored by CS students because of the challenge, and how much you will learn when you apply yourself. CS 2400 is a project-based course so, you will do a decent amount of programming on your own. Also, there are weekly labs to apply the skills you learned in class in an open environment where questions are encouraged.\n"
   ]
  },
  {
   "cell_type": "markdown",
   "id": "8994fbee-f7fb-48de-a5db-e678b5044ff0",
   "metadata": {},
   "source": [
    "## **What You'll Learn**\n",
    "\n",
    "Many of the core coding & programming concepts are introduced in CS 2400. Our first example is about data types in C++. In computer science, a data type is \"an attribute of data which tells the compiler or interpreter how the programmer intends to use the data\". Our second example is about loops, and our third example is about making functions. These two concepts are very important and commonly used. The next example involves control flow - making variables and if-else statements. Finally, our last 2 examples are about vectors and strings - two very important concepts in C++."
   ]
  },
  {
   "cell_type": "markdown",
   "id": "c3cfc1e8-5c58-4c47-a0a6-c31d08b1149e",
   "metadata": {},
   "source": [
    "### **Data Types**\n"
   ]
  },
  {
   "cell_type": "markdown",
   "id": "cdd1a95f-0ac2-4541-b1e7-af77699d91ad",
   "metadata": {},
   "source": [
    "- In most programming languages, there are several different types of data that are useful when solving problems\n",
    "- Strings are just like words ... they are just a string of characters and are denoted with \" \"'s around those characters\n",
    "- Numbers are represented in several different ways in most relevant programming languages\n",
    "- Integers are a specific type of number ... integers represent numbers like 1, 2, 3, ..\n",
    "- Floats are another type of number ... these are numbers that contain decimal points like 3.14, 5.2456, etc."
   ]
  },
  {
   "cell_type": "code",
   "execution_count": null,
   "id": "5f917031-504e-48c1-acba-d88d718d3d3a",
   "metadata": {},
   "outputs": [],
   "source": [
    "#include <iostream>\n",
    "#include <string>\n",
    "\n",
    "// # This is a string ... it contains a 'string' of characters\n",
    "// # Set the variable 'name' equal to your name and run the code block to see what happens!\n",
    "std::string name = \"your name here\";\n",
    "\n",
    "// # This will output the string 'name' to the screen!\n",
    "std::cout << \"Your name is: \" << name << \"\\n\";"
   ]
  },
  {
   "cell_type": "markdown",
   "id": "3dea46c4-3e1e-4df8-8b4d-541d0d5998dc",
   "metadata": {},
   "source": [
    "\n",
    "\n",
    "**In the following example below, \"int age\" is NOT initialized. This is an example of insecure programming - because the age variable is never set to a specific number. Set age to a number, and then run the program. Ex.) int age = 21;**"
   ]
  },
  {
   "cell_type": "code",
   "execution_count": null,
   "id": "f7e1c8cf-f335-4040-bb2f-5e7d9c3d04ba",
   "metadata": {
    "tags": []
   },
   "outputs": [],
   "source": [
    "#include <iostream>\n",
    "// This would be considered an integer because your age wouldn't have any decimal points\n",
    "// Set the integer variable 'age' equal to your age to see what happens\n",
    "\n",
    "int age; // NEEDS INITIALIZED!!!!!!!!!!!!!!\n",
    "\n",
    "// Run the current block to see what this does!\n",
    "std::cout << \"Your are \" << age << \" years old\\n\";"
   ]
  },
  {
   "cell_type": "markdown",
   "id": "ca2d70f0-19d2-444f-a0d6-a405c4436d65",
   "metadata": {},
   "source": [
    "### **Loops**"
   ]
  },
  {
   "cell_type": "markdown",
   "id": "ac687599-2236-49c5-a18b-48c9d7f91bc6",
   "metadata": {},
   "source": [
    "- A lot of times, in programming, we want to automate a lot of the computations we make and one way to do this is with Loops!\n",
    "- One of the most popular kinds of loops is a 'for' loop\n",
    "- In a for loop, we 'iterate' through lists, arrays, and all other sorts of things to compute or output certain things\n",
    "- We do this iteration by indexing\n",
    "- So, if we have a list with 10 items, we can start at 1, output the element of the list at index: 1\n",
    "- Once we're done with the element at index: 1 all we have to do is add one until we get to the last element at index: 10\n",
    "- This will allow us to view every element in that list in an automated fashion"
   ]
  },
  {
   "cell_type": "code",
   "execution_count": null,
   "id": "a14edc6a-dee6-4502-a952-634c32a4d665",
   "metadata": {
    "tags": []
   },
   "outputs": [],
   "source": [
    "#include <iostream>\n",
    "// # Here we are creating a list with 10 elements called 'list_of_numbers'\n",
    "int list_of_numbers [10] = {1, 2, 3, 4, 5, 6, 7, 8, 9, 10};\n",
    "\n",
    "// # We can loop through this list with a simple for loop and output each element\n",
    "// # In python the 'indexing' is actually done for us so we don't need to worry about that at all!\n",
    "for(int i = 0; i < 10; i++){\n",
    "    std::cout << list_of_numbers[i] << \"\\n\";\n",
    "}"
   ]
  },
  {
   "cell_type": "markdown",
   "id": "3776a50e-8285-440c-a5df-244db66d46f5",
   "metadata": {},
   "source": [
    "### **Functions**\n"
   ]
  },
  {
   "cell_type": "markdown",
   "id": "cecdee89-ef48-4951-b104-21e2cef13dc0",
   "metadata": {},
   "source": [
    "- One of the most important aspects of programming is writing useful functions\n",
    "- Writing functions helps us clean up our programs and avoid re-writing code\n",
    "- Functions can be set to return something once they're or just update something and not return anything at all\n",
    "- We can also pass information into a function by adding paramaters\n",
    "- We define the parameters in the definition of the function and pass arguments into the function call for those paramaters"
   ]
  },
  {
   "cell_type": "code",
   "execution_count": null,
   "id": "e3260568-df58-43cb-b2ad-1417fb000934",
   "metadata": {},
   "outputs": [],
   "source": [
    "#include <iostream>\n",
    "\n",
    "// # This function is called 'your_info' it takes 4 paramaters and prints your info to the screen\n",
    "void your_info(std::string fname, std::string lname, int age, std::string city){\n",
    "    std::cout << \"My name is \" << fname << \" \" << lname << \". \";\n",
    "    std::cout << \"I am \" << age << \" years old, and I am from\" << city << \". \";\n",
    "}\n",
    "\n",
    "// # Fill in the variables below with your first name, last name, age, and the city you are from\n",
    "// # Then run the code block to see what happens\n",
    "std::string first_name = \"\";\n",
    "std::string last_name = \" \";\n",
    "int age = 0;\n",
    "std::string city = \" \";\n",
    "\n",
    "// # This is the function call ... this is what actually outputs your info to the screen\n",
    "your_info(first_name, last_name, age, city);"
   ]
  },
  {
   "cell_type": "markdown",
   "id": "88c3a491-7f78-4ca6-baea-44099fa68d6d",
   "metadata": {},
   "source": [
    "### **Control Flow**\n"
   ]
  },
  {
   "cell_type": "markdown",
   "id": "2d4796bc-3d27-4800-a5db-439fcf46155f",
   "metadata": {},
   "source": [
    "- In almost every program, we base the programs actions off of certain variables and other moving parts\n",
    "- We want to be able to 'control' what our program does and we can do this with specialized statements\n",
    "- One of the most important and useful kinds of statements are if-statements\n",
    "- If-statements are logical blocks used within programming\n",
    "- They are conditional statements that tell the computer what to do so it can make decisions during run-time\n",
    "- The common form of these statements is: if something: do this ... otherwise: do something else"
   ]
  },
  {
   "cell_type": "code",
   "execution_count": null,
   "id": "326085cd-ed9f-45d6-a2ae-b9b5d718a9dd",
   "metadata": {},
   "outputs": [],
   "source": [
    "// # Let's see how these if-statements work\n",
    "int x = 25;\n",
    "int y = 18;\n",
    "\n",
    "if (x < y){\n",
    "    std::cout << \"x is less than y\";\n",
    "}else if( x > y){\n",
    "    std::cout << \"x is greater than y\";\n",
    "}else if (x == y){\n",
    "    std::cout << \"x is equal to y\";\n",
    "}"
   ]
  },
  {
   "cell_type": "code",
   "execution_count": null,
   "id": "8c8bb864-202e-4830-8729-ba69e0b3ab83",
   "metadata": {},
   "outputs": [],
   "source": [
    "// # We can even go one step further and turn this into a function\n",
    "void compare(int x, int y){\n",
    "    if (x < y){\n",
    "        std::cout << \"x is less than y\\n\";\n",
    "    }else if(x > y){\n",
    "        std::cout << \"x is greater than y\\n\";\n",
    "    }else if(x == y){\n",
    "        std::cout << \"x is equal to y\\n\";\n",
    "    }\n",
    "}\n",
    "// # Try it yourself and interchange the values to see how the output of each function call changes\n",
    "compare(25, 18);\n",
    "compare(10, 15);\n",
    "compare(33, 33);"
   ]
  },
  {
   "cell_type": "markdown",
   "id": "4b8ca244-ffa9-4236-b4ea-8021754e0a79",
   "metadata": {},
   "source": [
    "### **Vectors**\n",
    "Vectors are just like arrays except: They are objects of the class \"vector\", and they can change size as your program runs (dynamically). \n",
    "- Vectors, like arrays, have a base type. \n",
    "- To use the vector class, include the vector library. \n",
    "- Vector names are placed in the standard namespace so the usual using directive is needed. \n",
    "- Elements are added to a vector using the member function push_back. \n",
    "- Elements are removed from the end of a vector using the member function pop_back. \n",
    "- Vectors elements are indexed starting with 0. \n",
    "- [ ]'s are used to read or change the value of an item. The member function \"at\" will throw an out of range exception.\n",
    "- The member function size() returns the number of elements in a vector. \n",
    "- The assignment operator with vectors does an element by element copy of the right hand vector."
   ]
  },
  {
   "cell_type": "code",
   "execution_count": null,
   "id": "3bdd7d12-86ca-4166-a0e7-5794f7541a48",
   "metadata": {},
   "outputs": [],
   "source": [
    "#include <iostream>\n",
    "#include <vector>     // Need to include the vector library\n",
    "\n",
    "using namespace std;  // Need to use std namespace\n",
    "\n",
    "vector <int> scores = {4, 5, 9, 10, 100}; // Vector of integers\n",
    "cout << \"Size of scores vector: \" << scores.size() << endl;\n",
    "\n",
    "vector <int> scores2;\n",
    "scores2 = scores;\n",
    "\n",
    "scores2.pop_back();    // Removing 100 from vector\n",
    "scores2.pop_back();    // Removing 10 from vector\n",
    "scores2.push_back(22); // Adding 22 to end of vector\n",
    "scores2.push_back(58); // Adding 58 to end of vector\n",
    "scores2.push_back(99); // Adding 99 to end of vector\n",
    "\n",
    "// Printing out each element in the scores2 vector\n",
    "for (int i = 0; i < scores2.size(); i++)\n",
    "{\n",
    "    cout << scores2.at(i) << \" \"; \n",
    "}\n"
   ]
  },
  {
   "cell_type": "markdown",
   "id": "22dc6ccb-b651-497d-bee7-1e10487c6a86",
   "metadata": {},
   "source": [
    "### **Strings**\n",
    "- C++ has a built-in class called string. It is defined in the library string.\n",
    "- The class string overloads operators such as +, =, ==, >, <<, >>, +=, etc.\n",
    "- String objects are mutable.\n",
    "- Individual characters in a string can be accessed just like an array. The length of the string can be obtained using the member function length(), return type is size_t. It maybe necessary to convert the index between size_t and int sometimes.\n",
    "- s.length() Returns the length of the string.\n",
    "- s.find(str, pos) Returns the index of the first occurrence of str in s.\n",
    "- s.rfind(str, pos) Returns the index of the last occurrence of str in s.\n",
    "- s.substr(pos, len) Returns the substring of length len starting at position pos. If len is omitted, then the rest of the string is returned.\n",
    "- s.replace(pos, len, st) Replaces substring at pos of length len with st."
   ]
  },
  {
   "cell_type": "code",
   "execution_count": null,
   "id": "825bdfda-4030-42a7-9758-e9994b1b9841",
   "metadata": {},
   "outputs": [],
   "source": [
    "#include <iostream>\n",
    "#include <string>\n",
    "\n",
    "using namespace std;\n",
    "\n",
    "string st = \"This is a line of text. The word line occurs twice.\";\n",
    "st += \" Adding this line to the end of the st string\";\n",
    "cout << st << endl;\n",
    "\n",
    "int pos = st.find(\"line\", 0);\n",
    "cout << \"Line is found at position: \" << pos << endl; //prints 10\n",
    "\n",
    "pos = st.rfind(\"line\", st.length() - 1); \n",
    "cout << \"Line is found at position: \" << pos << endl; //prints 33\n",
    "\n",
    "cout << \"line replaced with LINE: \" << st.replace(pos, 4, \"LINE\") << endl;\n",
    "\n",
    "string new_string = st.substr(0, 13); // Starts at position 0, goes a length of 13\n",
    "cout << new_string << endl;"
   ]
  },
  {
   "cell_type": "markdown",
   "id": "5a911f87",
   "metadata": {},
   "source": [
    "## **Conclusion**"
   ]
  },
  {
   "cell_type": "markdown",
   "id": "2e659630",
   "metadata": {},
   "source": [
    "The activities above give a good representation of the fundamentals that are taught in CS2400. Data Types, Loops, Functions, Control Flow, Strings, and Vectors are all powerful coding concepts that when combined will enable students to design and implement their own projects. There are many projects throughout the course that are meant to solidify students understanding of C++ concepts which will be essential for success in future courses such as Data structures (CS 3610).   "
   ]
  }
 ],
 "metadata": {
  "kernelspec": {
   "display_name": "C++14",
   "language": "C++14",
   "name": "xcpp14"
  },
  "language_info": {
   "codemirror_mode": "text/x-c++src",
   "file_extension": ".cpp",
   "mimetype": "text/x-c++src",
   "name": "c++",
   "version": "14"
  }
 },
 "nbformat": 4,
 "nbformat_minor": 5
}
