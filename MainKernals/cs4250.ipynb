{
 "cells": [
  {
   "cell_type": "markdown",
   "id": "6690a0c0-31e1-47b8-8b5d-d485c63c3d9e",
   "metadata": {},
   "source": [
    "![CS 4250](images/cs4250-title.png)"
   ]
  },
  {
   "cell_type": "markdown",
   "id": "78456164-3681-44b4-bbb2-67c11d3227f9",
   "metadata": {},
   "source": [
    "## **Course Description**\n",
    "\n",
    "CS 4250, Interactive Computer Graphics, is an elective course in the cirriculum here at Ohio University. Students here at Ohio University usually take this course their Junior or Senior year to satisfy their elective requirements for graduation. This course covers the first few stages of programming interactive and 3-Dimnesional graphics with C++ and OpenGL. This is a very challenging course so students should have an interest in this field if they'd like to take this course because there is quite a lot of programming involved throughout the semester. Besides that, students who take this course will learn all about 2D and 3D graphics, input and interaction into their graphics programs, object transformations to move around in the 3D world, lighting and shading and a lot more cool stuff. CS 4250 is heavily project-based course so be prepared to figure a few things out on your own, but other than that this is a very interesting and rewarding course where you can build a bunch of cool things and learn all their is to know about developing interactive 3D graphics. "
   ]
  },
  {
   "cell_type": "markdown",
   "id": "7c39d2e8-c3ea-418a-a115-1d46bc36c50d",
   "metadata": {},
   "source": [
    "## **Learning Outcomes**\n",
    "- Students will be able to create interactive computer graphics programs that allow a user to manipulate 2D and/or 3D objects in real-time.\n",
    "- Students will be able to create programs able to display simple 2D graphics.\n",
    "- Students will be able to create programs able to display 3D graphics.\n",
    "- Students will be able to evaluate the technology behind real-time 3D computer games."
   ]
  },
  {
   "cell_type": "markdown",
   "id": "69d81ad8-1d11-4216-a480-825ca43482af",
   "metadata": {},
   "source": [
    "## **What You'll Learn**"
   ]
  },
  {
   "cell_type": "markdown",
   "id": "92511ad9-7ee9-4e64-bbc5-d7314b672545",
   "metadata": {},
   "source": [
    "- ### **OpenGL**\n",
    "\n",
    "> OpenGL, short for Open Graphics Language, is platform-independent application programming interface (API) that is somewhat easy to use, and will be used to program 2D and 3D graphics with C++ in this course. There is a bit of a learning curve to OpenGL, but what students get the hang of the main necessities of every graphics program, it will come a lot quicker. OpenGL is the main API students will be using to create both 2D and 3D computer graphics, but there a few other toolkits and libraries that sort of come with OpenGL that will make your life as a programmer a lot easier. Two of these toolkits / libraries are GLUT and GLEW.\n",
    ">> - **GLUT**\n",
    ">>> - GLUT, short for OpenGL Utility Toolkit, is a large library of utilities for OpenGL programs. One of the best parts about GLUT is that it provides functionality common to all window systems like opening a window on the screen, grabbing input from the user's mouse and keyboard, pop-up menus, and it's also event-driven.\n",
    ">>> - As a student in CS 4250, you will utilize GLUT's functionality in just about everyone of your projects for this course\n",
    ">> - **GLEW**\n",
    ">>> - GLEW, short for OpenGL Extension Wrangler Library, is a cross-platform open-source C/C++ extension loading library. GLEW provides efficient run-time mechanisms for determining which OpenGL extensions are supported on the target platform. \n",
    ">>> - Similar to GLUT, as a student you will most likely use this OpenGL extension in every project you create in this course.\n",
    "> - Getting a good grasp of OpenGL early is an essential skill needed to succeed in this course. Graphics programming is not easy, but the more you know how to use OpenGL, the less difficult it will be for you to succeed. This course is very interesting because it is a project-based course that is quite open-ended, so the more you know about OpenGL and it's functionality, the more interesting stuff you will be able to create."
   ]
  },
  {
   "cell_type": "markdown",
   "id": "68eca1e5-0771-4196-8c94-c8b1984cf0b9",
   "metadata": {},
   "source": [
    "- ### **Geometry in Computer Graphics**\n",
    "\n",
    "> Having a good knowledge of geometry is one of the most important skills to have as a graphics programmer beacuse just about everything invovles geometry in some way. Geometry is the study of the relationships among objects in an n-dimensional space and in computer graphics we are interested in objects that exist in three dimensions. The three basic elements we will need in our 3-Dimensonal world are **Scalars**, **Vectors**, & **Points**. With these three elements we can create and animate just about anything.\n",
    ">> - **Scalars**\n",
    ">>> - Scalars can be defined as members of sets which can be combined by two operations (addition and multiplication) obeying some fundamental axioms (associativity, commutivity, inverses)\n",
    ">>> - Examples of scalars include the real and complex number systems under the ordinary rules with which we are familiar\n",
    ">>> - Scalars alone have **no geometric properties**\n",
    ">> - **Vectors**\n",
    ">>> - A vector in geometry is considered to be a quantity with two seperate attributes: **Direction** and **Magnitude**\n",
    ">>> - Examples different types of vectors include\n",
    ">>>> - Force\n",
    ">>>> - Velocity\n",
    ">>>> - Directed Line Segments\n",
    ">> - **Points**\n",
    ">>> - Points are just considered to be **specific locations in space**\n",
    ">>> - Certain operations are allowed between points and vectors\n",
    ">>>> - Point to point subtraction yields a vector which is equivalent to point to point addition"
   ]
  },
  {
   "cell_type": "markdown",
   "id": "146cfd02-1328-4766-a2a3-03c564e05986",
   "metadata": {},
   "source": [
    "##### **Link to Jupyter Repository with 3D Graphics examples**\n",
    "[Real-time 3D animation examples](https://mybinder.org/v2/gh/vpython/vpython-jupyter/7.6.1?filepath=index.ipynb)"
   ]
  },
  {
   "cell_type": "markdown",
   "id": "3060b627-b4b6-4588-83bd-5bffe444d5c9",
   "metadata": {},
   "source": [
    "## **Conclusion**\n",
    "\n",
    "CS 4250 is a difficult class that will test your skills as a programmer, but once you get the hang of OpenGL and the math that goes into creating computer graphics this course can be a whole lot of fun. Like mentioned before, this course is project-based and the projects you will develop are very open-ended. Meaning, there is a whole lot of room in each project to use your own creativity to develop really cool programs. One thing to note for this course is you don't necessarily need any prior experience working with computer graphics, but you will need a good amount of programming and linear algebra knowledge. So, if you have any interest designing games and 3D worlds like minecraft this would be the perfect class for you to express your creativity."
   ]
  }
 ],
 "metadata": {
  "kernelspec": {
   "display_name": "Python 3 (ipykernel)",
   "language": "python",
   "name": "python3"
  },
  "language_info": {
   "codemirror_mode": {
    "name": "ipython",
    "version": 3
   },
   "file_extension": ".py",
   "mimetype": "text/x-python",
   "name": "python",
   "nbconvert_exporter": "python",
   "pygments_lexer": "ipython3",
   "version": "3.9.9"
  }
 },
 "nbformat": 4,
 "nbformat_minor": 5
}
