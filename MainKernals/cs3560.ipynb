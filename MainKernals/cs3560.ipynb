{
 "cells": [
  {
   "cell_type": "markdown",
   "id": "2267c815-ffff-4d3c-85f6-d4c4a58c6aba",
   "metadata": {},
   "source": [
    "![CS 3560](images/cs3560-title.png)"
   ]
  },
  {
   "cell_type": "markdown",
   "id": "d88fc8e8-8d3c-43f4-9763-6247a408d942",
   "metadata": {},
   "source": [
    "## **Course Description**"
   ]
  },
  {
   "cell_type": "markdown",
   "id": "dc6c1798-8e0b-4670-a138-ac252fc9dfed",
   "metadata": {},
   "source": [
    "CS 3650 is a very interesting and hands-on class that dives into detail on the skills needed to become a great software engineer. In this course you will learn about the application of a variety of different tools related to software engineering and development, and current practices that software engineers follow in the industry today. Some of the topics covered in this course include: software architecture, integrated development environments, build and make systems, debugging, and design and analysis tools. One of the best parts about this course is that you don't just learn about these topics, you learn how to apply these topics to your own software. Which will in turn make your life as a computer science student a lot easier."
   ]
  },
  {
   "cell_type": "markdown",
   "id": "90686547-a30c-4f8a-b52e-bbd39ad83759",
   "metadata": {},
   "source": [
    "## **Learning Outcomes**"
   ]
  },
  {
   "cell_type": "markdown",
   "id": "21ca757a-e192-41df-a753-4f29efa950c2",
   "metadata": {},
   "source": [
    "- Employ integrated development environments on practical projects.\n",
    "- Apply build systems on medium-sized programming projects.\n",
    "- Apply collaborative source code control systems to build or maintain medium size software systems.\n",
    "- Apply design tools such as UML to produce practical software designs.\n",
    "- Explain program verification and list the tools used for verification.\n",
    "- Describe and use design patterns.\n",
    "- Describe basic software architecture in both the UNIX and Windows environments.\n",
    "- Apply dynamic analysis tools to identify software defects.\n",
    "- Apply various static analysis tools and describe their strengths."
   ]
  },
  {
   "cell_type": "markdown",
   "id": "1fe00174-ae39-408a-8b8a-1e88afeffc14",
   "metadata": {},
   "source": [
    "## **What You'll Learn**"
   ]
  },
  {
   "cell_type": "markdown",
   "id": "0a8bab95-7f19-41e2-8053-bae42fdf315e",
   "metadata": {},
   "source": [
    "### **Version Control**"
   ]
  },
  {
   "cell_type": "markdown",
   "id": "6f3976ad-0ed2-43be-a1a4-dac66c2d2156",
   "metadata": {},
   "source": [
    "Version control is one of the most important aspects of software development because without it, we would not be able to keep track of the changes we make to our code. In software development we always want to keep track of the changes we make to our code because if something goes wrong, we can easily look back to a previous version of our software and see what changes were made. The version control software you will learn more about in this class is Git. Git is a free and open-source distributed version control system that is designed to keep track of projects of all sizes. Git makes it so much easier for teams to collaborate and develop projects because every member can have a local version of the project repository on their machine that they can edit and then essentially push that version to the main or 'master' branch."
   ]
  },
  {
   "cell_type": "markdown",
   "id": "7403efc4-3f98-48cc-993a-b131563ea4e8",
   "metadata": {},
   "source": [
    "#### **Why Git?**\n",
    "- Git is free and open-source which means anyone can use it\n",
    "- There is only a slight learning curve at first, so even beginners can use it to keep track of their projects\n",
    "- Git makes team development much easier because specific changes and associated contributors are tracked\n",
    "- Git development is made even easier with Github, a cloud-based hosting service that lets you manage Git repositories"
   ]
  },
  {
   "cell_type": "markdown",
   "id": "e8896fc9-c579-4102-95d5-991c8ce5cc57",
   "metadata": {},
   "source": [
    "### **Unit Testing**"
   ]
  },
  {
   "cell_type": "markdown",
   "id": "55fa1650-7146-4903-89ab-c4c54fe8ed08",
   "metadata": {},
   "source": [
    "Unit Testing refers to a form of software testing where we test the components of the system instead of testing the whole functional system at once. Unit testing allows us to test the functionality of individual functions, individual classes, and individual packages. Testing the components of a system before testing the whole system is more efficient and more effective, and allows us to create better tests for our programs. In CS 3560 you will learn about a bunch of different unit testing frameworks and use this knowledge to apply unit tests to your own programs. This will make your code more reliable and professional."
   ]
  },
  {
   "cell_type": "markdown",
   "id": "9d4f280c-460a-4c82-bf35-339daa05d693",
   "metadata": {},
   "source": [
    "#### **Testing Example**"
   ]
  },
  {
   "cell_type": "markdown",
   "id": "f7eca474-a867-48df-b33e-1d6efc417d9e",
   "metadata": {},
   "source": [
    "The Python program below uses a python library called 'unittest' to create a couple simple tests for some built in string methods in Python. Try and figure out how this code is working. Run it a few times to see what it does and change some of the code around to see if you can get any of the tests to fail. Ask yourself why they fail and maybe try to create your own unit test in the TestStringMethods class!"
   ]
  },
  {
   "cell_type": "code",
   "execution_count": null,
   "id": "c346dc18-3c8d-421c-b5a5-c4564695b292",
   "metadata": {
    "tags": []
   },
   "outputs": [],
   "source": [
    "import unittest\n",
    "\n",
    "class TestStringMethods(unittest.TestCase):\n",
    "\n",
    "    # What is this test function doing?\n",
    "    # Is it asking if the corresponding uppercase letters of 'foo' are equal to the string uppercase letters on the right?\n",
    "    def test_upper(self):\n",
    "        self.assertEqual('foo'.upper(), 'FOO')\n",
    "\n",
    "    # How about this one? Can you figure out why these tests pass?\n",
    "    def test_isupper(self):\n",
    "        self.assertTrue('FOO'.isupper())\n",
    "        self.assertFalse('Foo'.isupper())\n",
    "\n",
    "    # Can you figure out exactly what the code below does?\n",
    "    def test_split(self):\n",
    "        s = 'hello world'\n",
    "        self.assertEqual(s.split(), ['hello', 'world'])\n",
    "        # check that s.split fails when the separator is not a string\n",
    "        with self.assertRaises(TypeError):\n",
    "            s.split(2)\n",
    "\n",
    "# Deisregard the code below it is just used to set up the tests!\n",
    "if __name__ == '__main__':\n",
    "    unittest.main(argv=['first-arg-is-ignored'], exit=False)"
   ]
  },
  {
   "cell_type": "markdown",
   "id": "05d6d904-c1b9-4c6d-9cc5-f758e4a530dd",
   "metadata": {},
   "source": [
    "##### **Solution**"
   ]
  },
  {
   "cell_type": "markdown",
   "id": "7a296607-b25a-44be-980b-968e1eb4b7d4",
   "metadata": {},
   "source": [
    "- test_upper() is testing the upper() function. The upper() function takes a string of characters and returns that string of characters in uppercase. The assertEqual() function returns true if both of the functions paramaters are equal, and false if not.\n",
    "- test_isupper() is testing the isupper() function. The isupper() function takes a string of characters and returns True if all of the letters are uppercase and false if not. The assertTrue() function returns True if isupper() returns True, and assertFalse() returns True isupper() returns False.\n",
    "- test_splt() is testing the split() function. The split() function takes a string and divides it into a list and then returns that list. So assertEqual() will return true if the list with values ['hello', 'world'] is equal to split('hello world') and will return false if not."
   ]
  },
  {
   "cell_type": "markdown",
   "id": "3875ca70-26f5-45d0-aa15-19399a177884",
   "metadata": {},
   "source": [
    "## **Conclusion**"
   ]
  },
  {
   "cell_type": "markdown",
   "id": "a6ad464d-ee5e-48dd-a3bd-d2994a1fad72",
   "metadata": {},
   "source": [
    "CS 3560 is a very important class in the computer science cirriculum here at Ohio University. This class will teach you a variety of different skills and practices that are neccessary to have as a software engineer. You will learn how to keep track of previous versions of your code, test your code dynamically and statically, document your code professionally, and design prototypes of software products. All of these skills are essential to have in the industry today and this is where you will learn about them and apply them to real-world projects. "
   ]
  }
 ],
 "metadata": {
  "kernelspec": {
   "display_name": "Python 3 (ipykernel)",
   "language": "python",
   "name": "python3"
  },
  "language_info": {
   "codemirror_mode": {
    "name": "ipython",
    "version": 3
   },
   "file_extension": ".py",
   "mimetype": "text/x-python",
   "name": "python",
   "nbconvert_exporter": "python",
   "pygments_lexer": "ipython3",
   "version": "3.9.9"
  }
 },
 "nbformat": 4,
 "nbformat_minor": 5
}
