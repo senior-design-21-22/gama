{
 "cells": [
  {
   "cell_type": "markdown",
   "id": "fdf3ef00-c331-4c3c-a6d9-75fd849ffaa0",
   "metadata": {},
   "source": [
    "![EE 3954](images/ee3954-title.png)"
   ]
  },
  {
   "cell_type": "markdown",
   "id": "b57bac7f-0114-4296-9916-96bb1f1d914a",
   "metadata": {},
   "source": [
    "## **Course Description**\n",
    "EE 3954 is a class that is an introduction to microcontrollers and their architecture. You will learn about many aspects of microcontrollers, including assembly language; timing analysis of assembly language programs; digital input/output (I/O); and in-depth discussion on the use of built-in peripheral devices. This includes timers, analog-to-digital converters, EEPROM storage devices, capture/compare/PWM, and parallel and serial communication devices. Other topics in this course are serial communication, which includes both synchronous communication (SPI, I2C) and asynchronous (USART) communication; introduction to systems of networked microcontrollers; advanced fixed-point arithmetic on a microcontroller. Finally, using assembly language and C, you will learn to make use of the Arithmetic logic unit to add / subtract, memory management, register manipulation, utilizing different ports, communication between different ports, and much more."
   ]
  },
  {
   "cell_type": "markdown",
   "id": "a62ca83c-1ac7-4c16-b39e-bbf7f52e7317",
   "metadata": {},
   "source": [
    "## **What You'll Learn**\n",
    "\n",
    "### **Microprocessor (uP) v.s. Microcontroller (uC)**\n",
    "A Microprocessor is ...\n",
    "- More emphasis on interfacing with a user,\n",
    "- CPU, RAM, ROM, timer/counter, parallel, serial I/O are in general not in the same chip,\n",
    "- Instruction set size varies from reduced to very complex,\n",
    "- Instruction set is improved for control operations and offers byte-oriented data manipulation, branching, and I/O.\n",
    "\n",
    "A Microcontroller is ... \n",
    "- Specifically designed for control operations,\n",
    "- CPU, RAM, ROM, timer/counter, parallel, serial I/O built in (Computer in a chip),\n",
    "- Reduced instruction set,\n",
    "- Instruction set is improved for control operations and offers bit-oriented data manipulation, branching, and I/O,\n",
    "- Are often embedded controllers (they are used as a component of a larger system).\n",
    "\n",
    "### **Assembly (ASM) Instructions**\n",
    "Assembly language is a low-level programming language in which there is a very strong correspondence between the instructions in the language and the architecture's machine code instructions. In this class, you will learn about the basic assembly instructions, and will write programs involving various registers. \n",
    "\n",
    "**Example: Suppose we want to perform the operation: 0x34 + 0x52 = 0x86. Write a program in assembly that performs this using a temporary register (TEMP).**\n",
    "\n",
    "**Solution:**\n",
    "- TEMP    equ   0x20      ; entry in register file (location 0x20)\n",
    "- movlw   0x34            ; you need to use the ‘w’ register!!\n",
    "- movwf   TEMP            ; move the value to Register TEMP\n",
    "- movlw   0x52            ; store 0x52 in ‘w’\n",
    "- addwf   TEMP, 1         ; add ‘w’ and TEMP, put the result at TEMP\n",
    "\n",
    "### **Interrupts & Interrupt Service Routines (ISR)**\n",
    "The interrupt is a signal emitted by hardware or software when a process or an event needs immediate attention. It alerts the processor to a high-priority process requiring interruption of the current working process. In I/O devices one of the bus control lines is dedicated for this purpose and is called the Interrupt Service Routine (ISR). The interrupt feature allows certain events to preempt normal program flow. Firmware is used to determine the source of the interrupt and act accordingly. Some interrupts can be configured to wake the MCU from sleep mode. Generally, when an interrupt event happens: \n",
    "- Current prefetched instruction is flushed\n",
    "- GIE bit is cleared\n",
    "- Current PC is pushed on the stack\n",
    "- Critical registers are automatically saved to the shadow registers\t (“automatic context saving”)\n",
    "- W, STATUS, BSR, FSR registers, PCLATH\n",
    "- PC is loaded with the interrupt vector 0x0004\n",
    "\n",
    "In MPLab XC8 C source code, a function can be written to act as the interrupt service routine by using the interrupt qualifier. An interrupt function must be declared as type void interrupt and cannot have parameters. On PIC18 devices, interrupt functions default to being high priority. To create a low-priority interrupt function, use the qualifier low_priority in addition to interrupt in the function definition. Listed below is an example of an interrupt in C."
   ]
  },
  {
   "cell_type": "code",
   "execution_count": null,
   "id": "54e6f9b5-5158-482e-90c8-8b0d4abd6a5b",
   "metadata": {},
   "outputs": [],
   "source": [
    "/*****************************\n",
    "Dependencies:   xc.h\n",
    "Processor:      PIC16f1829\n",
    "Complier:       XC8 v1.00 or higher \n",
    "*****************************/\n",
    "#include <xc.h>        \n",
    "void main(void)\n",
    "{       \n",
    " \n",
    "        TRISB = 0x3F;                          // Port B bits 7 and 6 are output\n",
    "        OPTION_REGbits.T0CS = 0;               // Timer increments on instruction clock\n",
    "        INTCONbits.T0IE = 1;                   // Enable interrupt on TMR0 overflow\n",
    "        OPTION_REGbits.INTEDG = 0;             // falling edge trigger the interrupt\n",
    "        INTCONbits.INTE = 1;                   // enable the external interrupt\n",
    "        INTCONbits. GIE = 1;                   // Global interrupt enable\n",
    "        for(;;)\n",
    "                CLRWDT();                      // Idly kick the dog\n",
    "        while (1);\n",
    "}  \n",
    "\n",
    "void interrupt   tc_int  (void)                // interrupt function \n",
    "{\n",
    "        if(INTCONbits.T0IF && INTCONbits.T0IE) \n",
    "        {                                      // if timer flag is set & interrupt enabled\n",
    "                TMR0 -= 250;                   // reload the timer - 250uS per interrupt\n",
    "                INTCONbits.T0IF = 0;           // clear the interrupt flag \n",
    "                PORTB = 0x40;                  // toggle a bit to say we're alive\n",
    "        }\n",
    " \n",
    "}\n",
    " \n",
    "</xc.h>\n"
   ]
  },
  {
   "cell_type": "markdown",
   "id": "6378602c-210a-4694-a18f-53541085dbad",
   "metadata": {},
   "source": [
    "### **I2C and Baud Rate Selection**\n",
    "The name I2C stands for “Inter - Integrated Circuit Bus”. It is a small area network connecting ICs and other electronic systems. It originally intended for operations on one single board / PCB. There is a synchronous serial signal, where two wires carry information between several devices. One wire is used for the data and the other is used for the clock. Today, a variety of devices are available with I2C interfaces, including our microcontroller, EEPROM, Real-Timer, interface chips, LCD driver, and A/D converter. \n",
    "\n",
    "I2C is used for Data transfer between ICs and systems at relatively low rates “Classic” I2C is rated to 100K bits/second. “Fast Mode” devices support up to 400K bits/second. A “High Speed Mode” is defined for operation up to 3.4M bits/second. This reduces board space and cost by: Allowing use of ICs with fewer pins and smaller packages; Greatly reducing interconnect complexity; And allowing digitally controlled components to be located close to their point of use.\n",
    "\n",
    "In a I2C Bus, a master initiates a transfer by generating start and stop conditions, generates the clock, transmits the slave address, and determines data transfer direction.  A slave responds only when addressed, and the timing is controlled by the clock line. The I2C specification defines a Start condition as a transition of SDA from a high to a low state while SCL line is high. A Start condition is always generated by the master and signifies the transition of the bus from an Idle to an Active state. A Stop condition is a transition of the SDA line from low-to-high state while the SCL line is high. At least one SCL low time must appear before a Stop is valid, therefore, if the SDA line goes low then high again while the SCL line stays high, only the Start condition is detected.\n",
    "\n",
    "The baud rate is the rate at which information is transferred in a communication channel. Baud rate is commonly used when discussing electronics that use serial communication. The formula for I2C Baud Rate Selection is: Baud rate = fosc / (4 * (SSPxADD + 1) )\n",
    "\n",
    "**Example:** Calcuate the baud rate when fosc = 4 MHz = 4 x 10^6 Hz\n",
    "\n",
    "**Solution:** \n",
    "- SSPxADD = 0x00 - Baud rate = (4 ⋅ 10^6) / (4⋅(0+1)) = 1MHz\n",
    "- SSPxADD = 0x09 - Baud rate = (4 ⋅ 10^6) / (4⋅(9+1)) = 100kHz"
   ]
  },
  {
   "cell_type": "markdown",
   "id": "f62e4ee4-c058-4b02-8f10-b0598f2246ab",
   "metadata": {},
   "source": [
    "## **Conclusion**\n",
    "EE 3954 is an important class within the Ohio University Computer Science program. In this class, you will learn about the design and features of a microcontroller - including its architecture, operation, control system, and more. This class will also introduce you to lower level programming - both in assembly language and in C. The labs will help you master these coding concepts using your own PIC MPLAB X Microcontroller device. Understanding these concepts can really benifit your understand computer as a whole. Learning how the microcontrollers work on a low level really helps you understand how peripherals, memory, computation communicate within the controller. Other important topics that you will be introduced to are oscillators and their performance, timer and counter operations, and watchdog timers."
   ]
  }
 ],
 "metadata": {
  "kernelspec": {
   "display_name": "Python 3 (ipykernel)",
   "language": "python",
   "name": "python3"
  },
  "language_info": {
   "codemirror_mode": {
    "name": "ipython",
    "version": 3
   },
   "file_extension": ".py",
   "mimetype": "text/x-python",
   "name": "python",
   "nbconvert_exporter": "python",
   "pygments_lexer": "ipython3",
   "version": "3.8.10"
  }
 },
 "nbformat": 4,
 "nbformat_minor": 5
}
