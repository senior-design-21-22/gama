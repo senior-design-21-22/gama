{
 "cells": [
  {
   "cell_type": "markdown",
   "id": "bedafdc2-f8e6-4a5c-b1ee-14947b8ee48c",
   "metadata": {},
   "source": [
    "![Russ College Logo](images/logo.png)"
   ]
  },
  {
   "cell_type": "markdown",
   "id": "0ef3902d-8d16-4f6d-a560-d21edef15421",
   "metadata": {
    "tags": []
   },
   "source": [
    "# **Welcome Future Ohio University Computer Science Students!**\n",
    "Wanting to learn more about Ohio University's computer science program? You've come to the right place. This website covers an overview of the coursework within each individual class in our computer science curriculum. Inside each class's file, expect to learn about the course description, learning outcomes, and more! Also, expect to modify and run online examples of a few of the course's key concepts in a built-in editor/compiler!\n",
    "\n",
    "## **Website Features**\n",
    "- On the far left side of your screen is a side bar menu with four options. \n",
    "    - The first option, (the folder icon), contains a list of all of Ohio University's computer science courses. Double click on each course to open it in a new tab which appears at the top. To close a tab / course, hover over its corresponding tab, navigate to the circle icon, and select the 'x'.\n",
    "    - The second option, (a square inside a circle), is where you can manage your open tabs, kernals, and terminals.\n",
    "    - The third icon contains clickable headings that are on the current page viewed.\n",
    "- Each course contains a few self-contained examples that are both modifiable and runnable online. To run an example and view its output, first, select the example code cell. Next, make any desired edits to the cell. Lastly, click the triangle play button on the top ribbon to see the output.\n",
    "\n",
    "## **First Practice Example**\n",
    "\n",
    "Listed below is a Python print statement. Modify this statement so it outputs \"Hello (your first name)\". Run your solution to see if it is correct."
   ]
  },
  {
   "cell_type": "code",
   "execution_count": null,
   "id": "17103ae3-5cd8-4914-ba28-6049d75a1159",
   "metadata": {
    "tags": []
   },
   "outputs": [],
   "source": [
    "print(\"Hello World\")"
   ]
  },
  {
   "cell_type": "markdown",
   "id": "433cb7c6-09ba-45ad-bd30-fa30e4fcd4da",
   "metadata": {},
   "source": [
    "__Solution:__ Click on the print(\"Hello world\") cell. Next, delete the 'World' text, and type in your first name. Finally, click on the play button on the top ribbon to run the example and to see the output. Underneath the cell, you should now see the output, which should say, \"Hello (your first name)\".\n",
    "\n"
   ]
  }
 ],
 "metadata": {
  "kernelspec": {
   "display_name": "Python 3 (ipykernel)",
   "language": "python",
   "name": "python3"
  },
  "language_info": {
   "codemirror_mode": {
    "name": "ipython",
    "version": 3
   },
   "file_extension": ".py",
   "mimetype": "text/x-python",
   "name": "python",
   "nbconvert_exporter": "python",
   "pygments_lexer": "ipython3",
   "version": "3.8.12"
  }
 },
 "nbformat": 4,
 "nbformat_minor": 5
}
