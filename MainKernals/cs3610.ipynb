{
 "cells": [
  {
   "cell_type": "markdown",
   "id": "349a0cec-80c5-4f06-b119-6310d0c06105",
   "metadata": {
    "tags": []
   },
   "source": [
    "![CS 3610](images/cs3610-title.png)"
   ]
  },
  {
   "cell_type": "markdown",
   "id": "38302c7b-3b9c-4320-8e2e-6bbdaec460c5",
   "metadata": {},
   "source": [
    "## **Course Description**\n"
   ]
  },
  {
   "cell_type": "markdown",
   "id": "30597660-eeb3-4693-b193-10fa0635b40f",
   "metadata": {},
   "source": [
    "This course will teach you about Data Structures, the algoritms associated with them, and analysis of the algorithms themselves. Topics discussed within the class include algorithm analysis, dynamic arrays, tree structures, heaps, balanced trees, dictionaries, and complexity sorting. Once students recieve a core understanding of Data Structures, built in algorithms and structures are introduced in modern programming languages. CS 3610 provides a foundation that can be used within every class within the computer science curriculum. Throughout the course there will be plenty of projects and a weekly lab which will allow you to implement the information learned within lecture. Here we will implement a dynamic array and an insertion sort which will give a brief introduction to the topics discussed. "
   ]
  },
  {
   "cell_type": "markdown",
   "id": "f9b63204-18bf-4800-ab29-48bde87b9e2f",
   "metadata": {},
   "source": [
    "## **What You'll Learn**\n",
    "\n",
    "CS 3610 expands upon your C++ knowledge. Sometimes, when using an array to store data, you will need to be able to add or remove elements in it. Our first example discusses how to do this with something called a dynamic array. Afterwards, we discuss insertion sort, a specific type of sorting algorithm. Finally, you will be introduced to time complexity - are certain algorithms better (faster) than others?"
   ]
  },
  {
   "cell_type": "markdown",
   "id": "32587a84-006d-46e0-be39-2fb855479145",
   "metadata": {},
   "source": [
    "### **Dynamic Arrays**"
   ]
  },
  {
   "cell_type": "markdown",
   "id": "f9b80a80-cbac-4880-a4d8-230060de38cb",
   "metadata": {},
   "source": [
    "A dynamic array is similar to an array, but with the difference that its size can be dynamically modified at runtime. Don’t need to specify how much large an array beforehand. The elements of an array occupy a contiguous block of memory, and once created, its size cannot be changed. A dynamic array can, once the array is filled, allocate a bigger chunk of memory, copy the contents from the original array to this new space, and continue to fill the available slots.\n",
    "\n",
    "Dynamic Array Logic\n",
    "   - Allocate a new array B with larger capacity\n",
    "   - Set B[i]=A[i], for i=0 to n-1 where n denotes the current number of items\n",
    "   - Set A=B that is, we hence forth use B as the array of supporting list\n",
    "   - Insert new element in the new array\n",
    "\n",
    "Below we have a function that will take copy the values of the first array and put the values in a new array that is one larger and then set the old array back to that value."
   ]
  },
  {
   "cell_type": "code",
   "execution_count": null,
   "id": "a7bea70e-a2c9-4333-b9ce-626c8953d339",
   "metadata": {},
   "outputs": [],
   "source": [
    "// https://stackoverflow.com/questions/8056746/copying-from-one-dynamically-allocated-array-to-another-c\n",
    "void insertNumber(int *&array, int size, int number) {\n",
    "    int *newarray = new int[size + 1];\n",
    "    for (int i = 0; i < size; i ++)\n",
    "        newarray[i] = array[i];\n",
    "    delete [] array;\n",
    "    newarray[size] = number;\n",
    "    array = newarray;\n",
    "}"
   ]
  },
  {
   "cell_type": "code",
   "execution_count": null,
   "id": "bd607a5c-d40c-4453-a2af-c3505088e95f",
   "metadata": {},
   "outputs": [],
   "source": [
    "#include <iostream>\n",
    "int size;\n",
    "std::cin >> size;\n",
    "int *array = new int[size];\n",
    "// Fill array\n",
    "for(int i = 0; i < size; i++){\n",
    "    array[i] = i + 1;\n",
    "}\n",
    "//Print array\n",
    "std::cout << \"Array values:\\n\";\n",
    "for(int i = 0; i < size; i++){\n",
    "    std::cout << array[i];\n",
    "    std::cout << \"\\n\";\n",
    "}\n",
    "insertNumber(array,size,99);\n",
    "int newsize = size + 1; // Incrementing new size of array\n",
    "//Print array\n",
    "std::cout << \"Array values:\\n\";\n",
    "for(int i = 0; i < newsize; i++){\n",
    "    std::cout << array[i];\n",
    "    std::cout << \"\\n\";\n",
    "}\n",
    "\n",
    "delete [] array;"
   ]
  },
  {
   "cell_type": "markdown",
   "id": "0906c705-6321-43e4-af12-a5bcc37a8c52",
   "metadata": {},
   "source": [
    "### **Binary Search Trees**"
   ]
  },
  {
   "cell_type": "markdown",
   "id": "f1347627-d44a-44b7-9f17-d4675d8f271c",
   "metadata": {},
   "source": [
    "A Binary Search Tree is a data structure where all the nodes in each tree follow two main rules. One being the value of the key of the left sub-tree is less than the value of its parent (root) node's key. The second rule is that the value of the key of the right sub-tree is greater than or equal to the value of its parent (root) node's key. Binary search trees allow for a quick binary search of certain nodes which is used for fast searching, inserting, and removal of data items.\n",
    "\n",
    "Many times, a binary search tree will include functions/operations that support all or some of the following...\n",
    "1. Searching an element in a tree.\n",
    "2. Inserting an element in a tree.\n",
    "3. A Pre-order Traversal − Traverses a tree in a pre-order manner.\n",
    "4. An In-order Traversal − Traverses a tree in an in-order manner.\n",
    "5. Post-order Traversal − Traverses a tree in a post-order manner.\n",
    "\n",
    "The time complexity of operations on the binary search tree is directly proportional to the height of the tree. This means that some Binary search trees might be faster than others at searching or adding. Down below is a picture showing two different binary trees. The tree on the left is balanced having a lower worst case time complexity than the tree on the right which will have a higher worst case time complexity. In this class you will learn how to build an AVL Tree which is type of binary tree that will be able to balance itself as you build it, which will help you keep a quicker worst case search time when searching for a desired node."
   ]
  },
  {
   "cell_type": "markdown",
   "id": "bf33868f-7198-4415-bbc0-de328d96fc8d",
   "metadata": {},
   "source": [
    "![bst.png](images/cs3610-bst.png)"
   ]
  },
  {
   "cell_type": "markdown",
   "id": "907bec03-9252-4689-85cc-6c2b9babc254",
   "metadata": {},
   "source": [
    "Down below we have a data structure of a Binary Search Tree, and an example of where you can insert nodes into the tree. Then we call an inorder traversal to print out the number in order. You can also uncomment a function call to a preorder traversal and see how the Binary Search Tree will visit the nodes in the tree. Try changing the numbers that you insert into the tree and see if you can figure out what the preorder traversal will look like."
   ]
  },
  {
   "cell_type": "code",
   "execution_count": null,
   "id": "43da94f2-a3c1-492c-8ee7-07a622b2f229",
   "metadata": {},
   "outputs": [],
   "source": [
    "// C++ program to demonstrate insertion\n",
    "// in a BST recursively.\n",
    "#include <iostream>\n",
    "using namespace std;\n",
    "\n",
    "class BST {\n",
    "    int data;\n",
    "    BST *left, *right;\n",
    "\n",
    "public:\n",
    "    BST(); // Default constructor.\n",
    "    BST(int); // Parameterized constructor.\n",
    "    BST* Insert(BST*, int);    // Insert function.\n",
    "    void Inorder(BST*);    // Inorder traversal.\n",
    "    void Preorder(BST*);    // Preorder traversal.\n",
    "    void Postorder(BST*);    // Postorder traversal.\n",
    "};"
   ]
  },
  {
   "cell_type": "code",
   "execution_count": null,
   "id": "c218e0e1-b846-4c49-967a-b1cc1caa9fe2",
   "metadata": {},
   "outputs": [],
   "source": [
    "// Default Constructor definition.\n",
    "BST ::BST(): data(0), left(NULL), right(NULL){}"
   ]
  },
  {
   "cell_type": "code",
   "execution_count": null,
   "id": "42adcc05-b369-4e46-8f02-ec91afafbde6",
   "metadata": {},
   "outputs": [],
   "source": [
    "// Parameterized Constructor definition.\n",
    "BST ::BST(int value){\n",
    "    data = value;\n",
    "    left = right = NULL;\n",
    "}"
   ]
  },
  {
   "cell_type": "code",
   "execution_count": null,
   "id": "79c6587b-eda1-4771-bdbd-2b4fc5ab8095",
   "metadata": {},
   "outputs": [],
   "source": [
    "// Insert function definition.\n",
    "BST* BST ::Insert(BST* root, int value){\n",
    "    // Insert the first node, if root is NULL.\n",
    "    if (!root) {\n",
    "        return new BST(value);\n",
    "    }\n",
    "    // Insert data.\n",
    "    if (value > root->data) {\n",
    "        // Insert right node data, if the 'value'\n",
    "        // to be inserted is greater than 'root' node data.\n",
    "        // Process right nodes.\n",
    "        root->right = Insert(root->right, value);\n",
    "    }\n",
    "    else {\n",
    "        // Insert left node data, if the 'value'\n",
    "        // to be inserted is greater than 'root' node data.\n",
    "        // Process left nodes.\n",
    "        root->left = Insert(root->left, value);\n",
    "    }\n",
    "    // Return 'root' node, after insertion.\n",
    "    return root;\n",
    "}"
   ]
  },
  {
   "cell_type": "code",
   "execution_count": null,
   "id": "8f7f0678-0f9e-46ce-b6db-e09ccae840af",
   "metadata": {},
   "outputs": [],
   "source": [
    "// Inorder traversal function.\n",
    "// This gives data in sorted order.\n",
    "void BST ::Inorder(BST* root){\n",
    "    if (!root) {\n",
    "        return;\n",
    "    }\n",
    "    Inorder(root->left);\n",
    "    cout << root->data << endl;\n",
    "    Inorder(root->right);\n",
    "}"
   ]
  },
  {
   "cell_type": "code",
   "execution_count": null,
   "id": "ba21b253-788b-401d-9f0b-d1980c9ec69f",
   "metadata": {},
   "outputs": [],
   "source": [
    "// Postorder traversal function.\n",
    "// This gives data in reverse visted order.\n",
    "void BST ::Postorder(BST* root){\n",
    "    if (!root) {\n",
    "        return;\n",
    "    }\n",
    "    Inorder(root->left);\n",
    "    Inorder(root->right);\n",
    "    cout << root->data << endl;\n",
    "}"
   ]
  },
  {
   "cell_type": "code",
   "execution_count": null,
   "id": "e0abb865-793f-4f5c-abc4-8e7a1e6c3c16",
   "metadata": {},
   "outputs": [],
   "source": [
    "// Preorder traversal function.\n",
    "// This gives data in visted order.\n",
    "void BST ::Preorder(BST* root){\n",
    "    if (!root) {\n",
    "        return;\n",
    "    }\n",
    "    cout << root->data << endl;\n",
    "    Inorder(root->left);\n",
    "    Inorder(root->right);\n",
    "}"
   ]
  },
  {
   "cell_type": "code",
   "execution_count": null,
   "id": "13088708-313e-4a19-a7bf-d0724fab3358",
   "metadata": {},
   "outputs": [],
   "source": [
    "BST b, *root = NULL;\n",
    "root = b.Insert(root, 50);\n",
    "b.Insert(root, 30);\n",
    "b.Insert(root, 20);\n",
    "b.Insert(root, 40);\n",
    "b.Insert(root, 70);\n",
    "b.Insert(root, 50);\n",
    "b.Insert(root, 10);\n",
    "\n",
    "b.Inorder(root);\n",
    "// b.Preorder(root);\n",
    "// b.Postorder(root);\n",
    "return 0;"
   ]
  },
  {
   "cell_type": "markdown",
   "id": "4112625b-538b-451f-bf0c-08e0009a8e41",
   "metadata": {},
   "source": [
    "### **Insertion Sort**"
   ]
  },
  {
   "cell_type": "markdown",
   "id": "1448a4c8-388f-42ed-8a53-90ba71b31e62",
   "metadata": {},
   "source": [
    "Insertion sort is a simple sorting algorithm that works similar to the way you sort playing cards in your hands. The array is virtually split into a sorted and an unsorted part. Values from the unsorted part are picked and placed at the correct position in the sorted part.\n",
    "\n",
    "Insertion Sort Logic\n",
    "   - Iterate from arr[1] to arr[n] over the array. \n",
    "   - Compare the current element (key) to its predecessor. \n",
    "   - If the key element is smaller than its predecessor, compare it to the elements before. Move the greater elements one position up to make space for the swapped element."
   ]
  },
  {
   "cell_type": "code",
   "execution_count": null,
   "id": "09f387a7-3696-4092-abd3-0a65d7890d09",
   "metadata": {},
   "outputs": [],
   "source": [
    "void display(int *array, int size) {\n",
    "   for(int i = 0; i<size; i++)\n",
    "      std::cout << array[i] << \" \";\n",
    "   std::cout << \"\\n\";\n",
    "}"
   ]
  },
  {
   "cell_type": "code",
   "execution_count": null,
   "id": "9dfe9029-d17d-445f-b10c-c4a4219b571d",
   "metadata": {},
   "outputs": [],
   "source": [
    "void insertionSort(int *array, int size) {\n",
    "   int key, j;\n",
    "   for(int i = 1; i<size; i++) {\n",
    "      key = array[i];//take value\n",
    "      j = i;\n",
    "      while(j > 0 && array[j-1]>key) {\n",
    "         array[j] = array[j-1];\n",
    "         j--;\n",
    "      }\n",
    "      array[j] = key;   //insert in right place\n",
    "   }\n",
    "}"
   ]
  },
  {
   "cell_type": "code",
   "execution_count": null,
   "id": "77dc7e79-1140-41a0-bdc1-0472eca0a7b1",
   "metadata": {},
   "outputs": [],
   "source": [
    "#include <iostream>\n",
    "int n;\n",
    "std::cout << \"Enter the number of elements: \";\n",
    "std::cin >> n;\n",
    "int *arr = new int[n];   //create an array with given number of elements\n",
    "std::cout << \"Enter elements:\\n\";\n",
    "for(int i = 0; i<n; i++) {\n",
    "    std::cin >> arr[i];\n",
    "}\n",
    "std::cout << \"Array before Sorting: \";\n",
    "display(arr, n);\n",
    "insertionSort(arr, n);\n",
    "std::cout << \"Array after Sorting: \";\n",
    "display(arr, n);"
   ]
  },
  {
   "cell_type": "markdown",
   "id": "b6eeb637-b911-4134-9cd6-7a0d8133418b",
   "metadata": {},
   "source": [
    "### **Time Complexity**"
   ]
  },
  {
   "cell_type": "markdown",
   "id": "43f43639-d150-467a-b93a-fd557f8ff901",
   "metadata": {},
   "source": [
    "An important topic of discussion within Data Structures is time complexity which is defined as the number of times a particular instruction set is executed rather than the total time is taken. It is because the total time taken also depends on some external factors like the compiler used, processor’s speed, and other varying dependancies. \n",
    "\n",
    "Time complexity is most often described by using Big Oh notation which describes the limiting bounds of functions as they go towards a particular value or infinity. In our example of Linear Search we can say it operates at O(n^2) time. Which means with every insert there is n*n operations, a high amount of inserts results in a high operation time. This is why linear sort works best when dealing with small sample sizes. "
   ]
  },
  {
   "cell_type": "markdown",
   "id": "e5b0b50a-7817-4202-812c-a1242b5901dc",
   "metadata": {},
   "source": [
    "## **Conclusion**"
   ]
  },
  {
   "cell_type": "markdown",
   "id": "aa830892-9214-4639-8fb9-f318f238b921",
   "metadata": {},
   "source": [
    "Data Structures is a very comprehensive course, with the topics discussed above we can begin to scratch the surface of algorithms analysis and basic structures we can use within computer science. It is expected by the end of the course that students will gain an understanding of the average and worst case analysis of the standard sorting techniques and develop the ability to analyze simple iterative and recursive functions. Which are essential skills for success within our field. \n"
   ]
  }
 ],
 "metadata": {
  "interpreter": {
   "hash": "fe44fef87f92f48a3a32707d0df204585f471652bc0ce87358a3ce712bc24db0"
  },
  "kernelspec": {
   "display_name": "Python 3 (ipykernel)",
   "language": "python",
   "name": "python3"
  },
  "language_info": {
   "codemirror_mode": {
    "name": "ipython",
    "version": 3
   },
   "file_extension": ".py",
   "mimetype": "text/x-python",
   "name": "python",
   "nbconvert_exporter": "python",
   "pygments_lexer": "ipython3",
   "version": "3.8.12"
  }
 },
 "nbformat": 4,
 "nbformat_minor": 5
}
