{
 "cells": [
  {
   "cell_type": "markdown",
   "id": "55c72f0e-5801-4bd0-b69a-f7fee77cac62",
   "metadata": {},
   "source": [
    "![CS 3200](images/cs3200-title.png)"
   ]
  },
  {
   "cell_type": "markdown",
   "id": "4ab6cedd-ba9f-448a-bc51-5f525f0b6b2b",
   "metadata": {},
   "source": [
    "## **Course Description**\n",
    "\n",
    "This is a hands-on introduction to the science of programming and programming languages. This class includes many topics such as: structured data and pattern-matching, recursive and polymorphic data, recursion and higher-order functions, lazy evaluation and streams, automated and equational reasoning about programs, concrete and abstract syntax, grammars, interpreters, desugaring, types and type-checking, type safety, mutable state, references, and objects. Over the course of the semester, you will build interpreters and type checkers for a series of increasingly complex languages. We will cover just a few of these topics in this notebook."
   ]
  },
  {
   "cell_type": "markdown",
   "id": "0c407f3d-6dfd-4c36-a41d-ad25c1fa4027",
   "metadata": {},
   "source": [
    "## **What You'll Learn**\n",
    "- Students will be able to design, implement, and analyze structured data types to solve computational problems.\n",
    "- Students will be able to analyze and reason equationally about the correctness of small functional programs.\n",
    "- Students will be able to apply understanding of grammars and syntax trees to implement a parser for an extended arithmetic expression language.\n",
    "- Students will be able to apply understanding of structured data types, pattern-matching, recursion, and programming language semantics to implement an interpreter for an extended arithmetic expression language.\n",
    "- Students will be able to apply understanding of type systems, type judgments, and inductively defined typing rules to implement a type checker for an extended arithmetic expression language."
   ]
  },
  {
   "cell_type": "markdown",
   "id": "8ab5c940-4b35-4de9-9464-d9b44f5c261a",
   "metadata": {},
   "source": [
    "## **Learning Outcomes**"
   ]
  },
  {
   "cell_type": "markdown",
   "id": "382ab446-9f89-42bb-9bba-b48535f68583",
   "metadata": {},
   "source": [
    "### **Structured Data Types**\n",
    "Throughout all programming languages there are different datatypes. You may have seen some such as integers, Booleans, strings characters etc. Here we will go over a few that occur in python, and you will learn how to create your own data type."
   ]
  },
  {
   "cell_type": "markdown",
   "id": "39046957-19c8-4976-8b95-72b553478800",
   "metadata": {},
   "source": [
    "#### **Tuples & List**\n",
    "Tuples are an ordered sequence of items, which are immutable, meaning that the values of them cannot change after they are set. They can be made of multiple different kinds of data types, such as integers, Boolean, character, strings, arrays etc. Lists are almost the same as tuples but with one difference. And that is that list is mutable.\n",
    "below is an example of a tuple. See if you can change the second value of the list."
   ]
  },
  {
   "cell_type": "code",
   "execution_count": null,
   "id": "9a0a9073-0924-4277-b9b9-5fb46bc3d8ac",
   "metadata": {},
   "outputs": [],
   "source": [
    "#In Python tuples are defined useing parenthises\n",
    "t = (1, 2, 3)\n",
    "print(t)\n",
    "\n",
    "tt = (\"test\", 2, [1,4])\n",
    "print(tt)"
   ]
  },
  {
   "cell_type": "code",
   "execution_count": null,
   "id": "db956585-e649-438a-8768-d782881e9c09",
   "metadata": {},
   "outputs": [],
   "source": [
    "#In Python we define List using square brackets\n",
    "my_list = [1, 2, 3]\n",
    "print(my_list)\n",
    "\n",
    "#Here is where we are able to change the list\n",
    "my_list[0] = 0\n",
    "print(my_list)"
   ]
  },
  {
   "cell_type": "markdown",
   "id": "142ca295-e48d-45a9-985d-7701e1d3c25b",
   "metadata": {},
   "source": [
    "#### **Making your own data types**\n",
    "In almost all languages you can create your own kinds of data types with rules you want your data to follow. Here is an example below."
   ]
  },
  {
   "cell_type": "code",
   "execution_count": null,
   "id": "b4a825df-3129-4262-9d84-4a4ecc60fcaa",
   "metadata": {},
   "outputs": [],
   "source": [
    "# Here we define a class student and create a Init function that will take in the paramters when the data type is\n",
    "# created and give that datatype the values that was passed to it\n",
    "class Student:\n",
    "  def __init__(self, name, age, intrests):\n",
    "    self.name = name\n",
    "    self.age = age\n",
    "    self.intrests = intrests\n",
    "\n",
    "# Here we are able to pass in some data which will call back to our init function in our Student class\n",
    "s1 = Student(\"Alex\", 21, [\"Coding\",\"Basketball\", \"Gaming\"])\n",
    "\n",
    "print(s1.name)\n",
    "print(s1.age)\n",
    "print(s1.intrests)"
   ]
  },
  {
   "cell_type": "markdown",
   "id": "71246d92-e558-4b8d-83d0-2d62120a492b",
   "metadata": {},
   "source": [
    "Below is class called Dog, you can include other information such as breed, tricks, weight, age and more. See if you can add a type called \"age\" to the class and compare two dogs to see who which dog is older."
   ]
  },
  {
   "cell_type": "code",
   "execution_count": null,
   "id": "4f68c236-1322-4e36-b0b3-6c2fbf122202",
   "metadata": {},
   "outputs": [],
   "source": [
    "class Dog:\n",
    "  def __init__(self, name, breed, weight):\n",
    "    self.name = name\n",
    "    self.breed = breed\n",
    "    self.weight = weight\n",
    "\n",
    "# Here we are able to pass in some data which will call back to our init function in our Student class\n",
    "d1 = Dog(\"Billy\", \"Golden Retriver\", 65)\n",
    "d2 = Dog(\"lacy\", \"Great Dane\", 85)\n",
    "\n",
    "# Comparing the dogs weight\n",
    "if d1.weight < d2.weight:\n",
    "    print(d1.name)\n",
    "else:\n",
    "    print(d2.name)\n",
    "    "
   ]
  },
  {
   "cell_type": "markdown",
   "id": "bc2ececc-3442-462e-960c-aee9c3b1d4b9",
   "metadata": {},
   "source": [
    "Through all of programing it is very important to understand the different data types and what they may be used for. When the standard data types don't fit the problem you are trying to solve, you can always create a datatype to help solve a problem for you. Although there might be different kinds of data types in different programming languages, they are very similar in the way they are implemented and when creating new datatypes.\n"
   ]
  },
  {
   "cell_type": "markdown",
   "id": "175223df-24aa-41e7-83db-392195bd5fc3",
   "metadata": {},
   "source": [
    "### **Recursion**\n",
    "Recursion is a concept in computer science where a function will call itself. Down below we can see a factorial function that calculates the factorial of a given number. In the beginning of the function we have conditional statement where if satisfied will not call the function again, and terminate the function, this is called the base case. In our case the base case is the n == 1 and returning 1. In a recursive function if we don’t have a base case then the function will get stuck in a loop of calling itself over and over. If we are not in our base case we can then start the calculation of the factorial by taking the current number and multiplying it by the factorial of the number 1 smaller than it which we can do by calling factorial on the smaller number."
   ]
  },
  {
   "cell_type": "code",
   "execution_count": null,
   "id": "4e1ea6fa-7580-439f-baff-4edf19a746c0",
   "metadata": {},
   "outputs": [],
   "source": [
    "def factorial(n):\n",
    "    #Base case\n",
    "    if n == 1:\n",
    "        return 1\n",
    "    else:\n",
    "        return (n * factorial(n - 1))   # Recursive call\n",
    "number = 12\n",
    "print(number, \"! = \", factorial(number))"
   ]
  },
  {
   "cell_type": "markdown",
   "id": "48706d99-b817-4a9c-b50e-c424c13f8ef4",
   "metadata": {},
   "source": [
    "Below is a function used to count down to 0, but there seems to be a couple problems with it ... Can you fix the problem to get it to count down correctly?"
   ]
  },
  {
   "cell_type": "code",
   "execution_count": null,
   "id": "f8485122-7e44-4b6f-9e35-62e217ff8fe0",
   "metadata": {},
   "outputs": [],
   "source": [
    "def countdown(n):\n",
    "    print(n)\n",
    "    # Base case\n",
    "    if n == 5:\n",
    "        print(\"Done\")\n",
    "        return           \n",
    "    else:\n",
    "        countdown(n)\n",
    "        \n",
    "countdown(5)"
   ]
  },
  {
   "cell_type": "markdown",
   "id": "5194c28c-4c02-4460-9a9c-5a6ce35c9014",
   "metadata": {},
   "source": [
    "## **Conclusion**"
   ]
  },
  {
   "cell_type": "markdown",
   "id": "cdb25ee5-25e1-49ae-a1e1-49c7987eb2b9",
   "metadata": {},
   "source": [
    "Programming Languages covers many topics, these are just a few to get a good taste of what you will see in this class. In this class you will also build your own programming language, which will encompass a parser, interpreter, and a type checker. Overall, the goal of this class is to help you understand the many aspects that all programming language share, and how these languages are created."
   ]
  }
 ],
 "metadata": {
  "kernelspec": {
   "display_name": "Python 3 (ipykernel)",
   "language": "python",
   "name": "python3"
  },
  "language_info": {
   "codemirror_mode": {
    "name": "ipython",
    "version": 3
   },
   "file_extension": ".py",
   "mimetype": "text/x-python",
   "name": "python",
   "nbconvert_exporter": "python",
   "pygments_lexer": "ipython3",
   "version": "3.9.9"
  }
 },
 "nbformat": 4,
 "nbformat_minor": 5
}
