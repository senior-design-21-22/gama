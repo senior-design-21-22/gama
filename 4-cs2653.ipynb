{
 "cells": [
  {
   "cell_type": "markdown",
   "id": "83b8a996-b5cb-4a37-9fef-a50364c72eb5",
   "metadata": {},
   "source": [
    "![cs 2653](images/cs2653.png)"
   ]
  },
  {
   "cell_type": "markdown",
   "id": "e7b187b3-6a2c-40c5-8172-13191d801eb8",
   "metadata": {},
   "source": [
    "## **Course Description:**\n",
    "Examines the professional, ethical, and legal issues that are likely to be encountered by computing professionals, both locally and globally. Topics in the course include privacy, information security issues, freedom of speech, intellectual property, software licensing, regulations pertaining to computing professionals, copyright, and broader issues on the impact of computers on society. This course covers professional ethics and responsibilities as well as general theories of normative ethics."
   ]
  },
  {
   "cell_type": "markdown",
   "id": "c8df6672-d969-4f36-8f94-5ea1bd2f2f32",
   "metadata": {},
   "source": [
    "## **Learning Outcomes:**\n",
    "- Demonstrate an understanding of issues dealing with intellectual property, including software licensing.\n",
    "- Demonstrate an understanding of privacy issues including HIPA.\n",
    "- Demonstrate an awareness of security threats to computers and computer networks.\n",
    "- Show an understanding of the responsibility inherent in the information professions.\n",
    "- Demonstrate an awareness of how issues involving freedom of speech and intellectual property are shaped differently in multinational and multicultural environments."
   ]
  },
  {
   "cell_type": "markdown",
   "id": "6051f2f7-b5d9-46af-b85d-aac93b4e7f54",
   "metadata": {},
   "source": [
    "## **Course Structure:**\n",
    "- **READING:** Demonstrate competence in retaining information by reading assigned computer ethics material.\n",
    "- **PRESENTATIONS:** Demonstrate competence in making an oral presentation to the class.\n",
    "- **PAPERS:** Demonstrate competence in written communication through a paper arguing a position on one of the issues covered in the course. \n",
    "- **TEAM ACTIVITIES:** Demonstrate team cooperation in a group-created written report on an assigned topic."
   ]
  },
  {
   "cell_type": "markdown",
   "id": "9cee3f02-81a3-476a-a327-844c7cd16fba",
   "metadata": {},
   "source": [
    "## **Good Questions to Consider:**\n",
    "- Is there something inherently good about privacy, something worth preserving? Is privacy more important than ever, or less so?\n",
    "- Should the government have a role in the regulation of social media and its intrusion into our lives, particularly now that the integrity of our elections has come under attack?\n",
    "- Past computer crimes. Any controversy on the crime / punishment? Ex.) Aaron Swartz\n",
    "- A dissident in a small village can now have their voice heard across the world, but can their government find and persecute them? Can or should they do it with immunity?\n",
    "- Is the internet working to empower women or is it being used more as a tool to those who seek to oppress them?"
   ]
  },
  {
   "cell_type": "markdown",
   "id": "e5b48014-88aa-487a-9388-8843e9f66288",
   "metadata": {},
   "source": [
    "## **Class Information:**\n",
    "#### Requisites: CS 2400 or concurrent\n",
    "#### Credit Hours: 3\n",
    "#### Repeat/Retake Information: May be retaken two times excluding withdrawals, but only last course taken counts.\n",
    "#### Lecture/Lab Hours: 3.0 lecture\n",
    "#### Grades: Eligible Grades: A-F,WP,WF,WN,FN,AU,I"
   ]
  }
 ],
 "metadata": {
  "kernelspec": {
   "display_name": "Python 3 (ipykernel)",
   "language": "python",
   "name": "python3"
  },
  "language_info": {
   "codemirror_mode": {
    "name": "ipython",
    "version": 3
   },
   "file_extension": ".py",
   "mimetype": "text/x-python",
   "name": "python",
   "nbconvert_exporter": "python",
   "pygments_lexer": "ipython3",
   "version": "3.9.9"
  }
 },
 "nbformat": 4,
 "nbformat_minor": 5
}
