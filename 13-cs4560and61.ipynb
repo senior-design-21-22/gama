{
 "cells": [
  {
   "cell_type": "markdown",
   "id": "3816b8f3-7a25-444e-82bc-83d12cc763dd",
   "metadata": {},
   "source": [
    "![cs 2653](images/cs456061.png)"
   ]
  },
  {
   "cell_type": "markdown",
   "id": "27e1fbcd-fab2-4c01-bb77-025da66b339b",
   "metadata": {},
   "source": [
    "## **Course Description**\n",
    "CS 4560 & CS 4561 are the senior capstone classes to Ohio University's computer science program. CS 4560 is offered to senior CS students in the fall, and CS 4561 is a continuation of the capstone and is offered in the spring. Both classes include all major phases of the software engineering lifecycle, including system engineering, requirements analysis, design, implementation and testing. These classes require top-notch communication skills - that are relevant to working in software engineering teams and interacting with customers. Teams of students perform all software engineering phases in response to the needs of a customer."
   ]
  },
  {
   "cell_type": "markdown",
   "id": "9f10905a-2d6a-4082-9e47-fb1392039ef0",
   "metadata": {},
   "source": [
    "## **Learning Objectives and Outcomes:**\n",
    "<u> Learning Objectives</u> <br>\n",
    "The purpose of the course is to provide students with knowledge and skills needed in the software engineering profession. This course does not focus exclusively on the implementation phase of software development, which is only one step in the modern software development processes employed by software engineering professionals. The skills taught in this course involve all the phases of a typical software development life cycle.\n",
    "\n",
    "Another goal of the course is to provide students with knowledge and experience relevant to working in a software engineering team and interacting with customers. Therefore, the course covers material about interpersonal communications, both with members of a team and with customers. Students apply a software development process while working in teams to engineer a software product for a customer. In addition, the course aims to teach students skills to quickly evaluate and master new technologies.\n",
    "\n",
    "<u> Learning Outcomes</u> <br>\n",
    "- Analyze a complex computing problem and to apply principles of computing and other relevant disciplines to identify solutions. You will be able to explain all aspects of the software development and produce a software requirement specification document.\n",
    "- Design, implement, and evaluate a computing-based solution to meet a given set of computing requirements in the context of the program's discipline. You will be able to design and implement a solution to a complex software engineering project based on the specified requirements. Also, you will be able to perform software testing.\n",
    "- Recognize professional responsibilities and make informed judgments in computing practice based on legal and ethical principles. You will be able to discuss privacy issues, security issues, and ACM/IEEE software engineering code of ethics.\n",
    "- Function effectively as a member or leader of a team engaged in activities appropriate to the program's discipline. You will be able to perform in an effective team problem solving process and will create a formal presentation and present it in front of an audience."
   ]
  },
  {
   "cell_type": "markdown",
   "id": "d60a2db4-dae5-4950-bb15-bd4264ecf840",
   "metadata": {},
   "source": [
    "## **Course Structure:**\n",
    "Welcome to your \"first job\"! "
   ]
  },
  {
   "cell_type": "markdown",
   "id": "2c7c5ec2-24eb-47d8-be8c-04d110a99980",
   "metadata": {},
   "source": [
    "## **Other Important Topics Discussed:**\n",
    "**Introduction to Software Engineering** - Including various characteristics/techniques and software requirement specification, design, graphical, and architectural documentation.\n",
    "\n",
    "**Agile Software Development using Scrum** - Including roles, artifacts, requirements, and advantages.\n",
    "\n",
    "**User Interface and Experience** - Including UI concepts, design principals, and good practices.\n",
    "\n",
    "**ACM/IEEE Software Engineering Code of Ethics** - Software engineers shall commit themselves to making the analysis, specification, design, development, testing and maintenance of software a beneficial and respected profession. In accordance with their commitment to the health, safety and welfare of the public, software engineers shall adhere to the following Eight Principles:\n",
    "1. PUBLIC - Software engineers shall act consistently with the public interest.\n",
    "2. CLIENT AND EMPLOYER - Software engineers shall act in a manner that is in the best interests of their client and employer consistent with the public interest.\n",
    "3. PRODUCT - Software engineers shall ensure that their products and related modifications meet the highest professional standards possible.\n",
    "4. JUDGMENT - Software engineers shall maintain integrity and independence in their professional judgment.\n",
    "5. MANAGEMENT - Software engineering managers and leaders shall subscribe to and promote an ethical approach to the management of software development and maintenance.\n",
    "6. PROFESSION - Software engineers shall advance the integrity and reputation of the profession consistent with the public interest.\n",
    "7. COLLEAGUES - Software engineers shall be fair to and supportive of their colleagues. 8. SELF - Software engineers shall participate in lifelong learning regarding the practice of their profession and shall promote an ethical approach to the practice of the profession."
   ]
  },
  {
   "cell_type": "markdown",
   "id": "b4d6382a-4df8-4b16-bab2-b7e2c3a27258",
   "metadata": {},
   "source": [
    "## **Conclusion**\n",
    "CS 4560 & CS 4561 blah blah blah"
   ]
  },
  {
   "cell_type": "code",
   "execution_count": null,
   "id": "9e34d2f5-5c47-4cb1-bcd8-fa08265f9242",
   "metadata": {},
   "outputs": [],
   "source": []
  }
 ],
 "metadata": {
  "kernelspec": {
   "display_name": "Python 3 (ipykernel)",
   "language": "python",
   "name": "python3"
  },
  "language_info": {
   "codemirror_mode": {
    "name": "ipython",
    "version": 3
   },
   "file_extension": ".py",
   "mimetype": "text/x-python",
   "name": "python",
   "nbconvert_exporter": "python",
   "pygments_lexer": "ipython3",
   "version": "3.9.9"
  }
 },
 "nbformat": 4,
 "nbformat_minor": 5
}
