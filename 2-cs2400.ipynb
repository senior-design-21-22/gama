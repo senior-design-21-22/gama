{
 "cells": [
  {
   "cell_type": "markdown",
   "id": "4d5cc06d-10c9-4176-8dcb-15b3c3383937",
   "metadata": {},
   "source": [
    "![cs2400 logo](images/cs2400.png)"
   ]
  },
  {
   "cell_type": "markdown",
   "id": "432326a6-553d-4d49-b55d-2db425137065",
   "metadata": {},
   "source": [
    "## **Course Description**\n",
    "\n",
    "CS 2400 is one of the first and most exciting courses new computer science students will take here at Ohio University! In this course you will dive into a bunch of different topics that are programming related, and really get a grasp of what programming is and what it takes to be a programmer. Early in the course you will learn about the basic concepts of the C++ programming language. Some of these concepts include: data types, variables, loops, flow of control, and even creating functions. Even though to some, these topics may seem elementary, understanding these concepts like the back of your hand is crucial for becoming a successful CS student in the future. The difficulty begins to increase in the second half of the course when topics are covered like: objects, classes, dynamic memory, polymorphism, and abstract data types. Learning and applying these concepts may be challenging, but this class is one of the most favored by CS students because of the challenge, and how much you will learn when you apply yourself. CS 2400 is a project-based course so, you will do a decent amount of programming on your own. Also, there are weekly labs to apply the skills you learned in class in an open environment where questions are encouraged.\n"
   ]
  },
  {
   "cell_type": "markdown",
   "id": "8994fbee-f7fb-48de-a5db-e678b5044ff0",
   "metadata": {},
   "source": [
    "## **What You'll Learn:**\n"
   ]
  },
  {
   "cell_type": "markdown",
   "id": "c3cfc1e8-5c58-4c47-a0a6-c31d08b1149e",
   "metadata": {},
   "source": [
    "### **Data Types**\n"
   ]
  },
  {
   "cell_type": "markdown",
   "id": "cdd1a95f-0ac2-4541-b1e7-af77699d91ad",
   "metadata": {},
   "source": [
    "- In most programming languages, there are several different types of data that are useful when solving problems\n",
    "- Strings are just like words ... they are just a string of characters and are denoted with \" \"'s around those characters\n",
    "- Numbers are represented in several different ways in most relevant programming languages\n",
    "- Integers are a specific type of number ... integers represent numbers like 1, 2, 3, ..\n",
    "- Floats are another type of number ... these are numbers that contain decimal points like 3.14, 5.2456, etc."
   ]
  },
  {
   "cell_type": "code",
   "execution_count": null,
   "id": "3465b381-1645-4aa0-9733-af502d14a213",
   "metadata": {
    "tags": []
   },
   "outputs": [],
   "source": [
    "# In Python, beginning a line with a '#' symbol denotes that line as a comment\n",
    "\n",
    "# This is a string ... it contains a 'string' of characters\n",
    "# Set the variable 'name' equal to your name and run the code block to see what happens!\n",
    "name = \"your name here\"\n",
    "\n",
    "# This will output the string 'name' to the screen!\n",
    "print(\"Your name is: {}\".format(name))"
   ]
  },
  {
   "cell_type": "code",
   "execution_count": 1,
   "id": "f7e1c8cf-f335-4040-bb2f-5e7d9c3d04ba",
   "metadata": {
    "tags": []
   },
   "outputs": [
    {
     "name": "stdout",
     "output_type": "stream",
     "text": [
      "Your are 18 years old\n"
     ]
    }
   ],
   "source": [
    "# This would be considered an integer because your age wouldn't have any decimal points\n",
    "# Set the integer variable 'age' equal to your age to see what happens\n",
    "age = 18\n",
    "\n",
    "# Run the current block to see what this does!\n",
    "print(\"Your are {} years old\".format(age))"
   ]
  },
  {
   "cell_type": "markdown",
   "id": "ca2d70f0-19d2-444f-a0d6-a405c4436d65",
   "metadata": {},
   "source": [
    "### **Loops**"
   ]
  },
  {
   "cell_type": "markdown",
   "id": "ac687599-2236-49c5-a18b-48c9d7f91bc6",
   "metadata": {},
   "source": [
    "- A lot of times, in programming, we want to automate a lot of the computations we make and one way to do this is with Loops!\n",
    "- One of the most popular kinds of loops is a 'for' loop\n",
    "- In a for loop, we 'iterate' through lists, arrays, and all other sorts of things to compute or output certain things\n",
    "- We do this iteration by indexing\n",
    "- So, if we have a list with 10 items, we can start at 1, output the element of the list at index: 1\n",
    "- Once we're done with the element at index: 1 all we have to do is add one until we get to the last element at index: 10\n",
    "- This will allow us to view every element in that list in an automated fashion"
   ]
  },
  {
   "cell_type": "code",
   "execution_count": null,
   "id": "a14edc6a-dee6-4502-a952-634c32a4d665",
   "metadata": {
    "tags": []
   },
   "outputs": [],
   "source": [
    "# Here we are creating a list with 10 elements called 'list_of_numbers'\n",
    "list_of_numbers = [1, 2, 3, 4, 5, 6, 7, 8, 9, 10]\n",
    "\n",
    "# We can loop through this list with a simple for loop and output each element\n",
    "# In python the 'indexing' is actually done for us so we don't need to worry about that at all!\n",
    "for number in list_of_numbers:\n",
    "    print(number)"
   ]
  },
  {
   "cell_type": "markdown",
   "id": "3776a50e-8285-440c-a5df-244db66d46f5",
   "metadata": {},
   "source": [
    "### **Functions**\n"
   ]
  },
  {
   "cell_type": "markdown",
   "id": "cecdee89-ef48-4951-b104-21e2cef13dc0",
   "metadata": {},
   "source": [
    "- One of the most important aspects of programming is writing useful functions\n",
    "- Writing functions helps us clean up our programs and avoid re-writing code\n",
    "- Functions can be set to return something once they're or just update something and not return anything at all\n",
    "- We can also pass information into a function by adding paramaters\n",
    "- We define the parameters in the definition of the function and pass arguments into the function call for those paramaters"
   ]
  },
  {
   "cell_type": "code",
   "execution_count": null,
   "id": "e3260568-df58-43cb-b2ad-1417fb000934",
   "metadata": {},
   "outputs": [],
   "source": [
    "# This function is called 'your_info' it takes 4 paramaters and prints your info to the screen\n",
    "def your_info(fname, lname, age, city):\n",
    "    print(\"My name is {} {}. I am {} years old, and I am from {} \".format(fname, lname, age, city))\n",
    "    \n",
    "\n",
    "# Fill in the variables below with your first name, last name, age, and the city you are from\n",
    "# Then run the code block to see what happens\n",
    "first_name = \" \"\n",
    "last_name = \" \"\n",
    "age = 0\n",
    "city = \" \"\n",
    "\n",
    "# This is the function call ... this is what actually outputs your info to the screen\n",
    "your_info(first_name, last_name, age, city)"
   ]
  },
  {
   "cell_type": "markdown",
   "id": "88c3a491-7f78-4ca6-baea-44099fa68d6d",
   "metadata": {},
   "source": [
    "### **Control Flow**\n"
   ]
  },
  {
   "cell_type": "markdown",
   "id": "2d4796bc-3d27-4800-a5db-439fcf46155f",
   "metadata": {},
   "source": [
    "- In almost every program, we base the programs actions off of certain variables and other moving parts\n",
    "- We want to be able to 'control' what our program does and we can do this with specialized statements\n",
    "- One of the most important and useful kinds of statements are if-statements\n",
    "- If-statements are logical blocks used within programming\n",
    "- They are conditional statements that tell the computer what to do so it can make decisions during run-time\n",
    "- The common form of these statements is: if something: do this ... otherwise: do something else"
   ]
  },
  {
   "cell_type": "code",
   "execution_count": 1,
   "id": "326085cd-ed9f-45d6-a2ae-b9b5d718a9dd",
   "metadata": {},
   "outputs": [
    {
     "name": "stdout",
     "output_type": "stream",
     "text": [
      "x is greater than y\n"
     ]
    }
   ],
   "source": [
    "# Let's see how these if-statements work\n",
    "x = 25\n",
    "y = 18\n",
    "\n",
    "if x < y:\n",
    "    print(\"x is less than y\")\n",
    "elif x > y:\n",
    "    print(\"x is greater than y\")\n",
    "elif x == y:\n",
    "    print(\"x is equal to y\")"
   ]
  },
  {
   "cell_type": "code",
   "execution_count": null,
   "id": "8c8bb864-202e-4830-8729-ba69e0b3ab83",
   "metadata": {},
   "outputs": [],
   "source": [
    "# We can even go one step further and turn this into a function\n",
    "def compare(x, y):\n",
    "    if x < y:\n",
    "        print(\"x is less than y\")\n",
    "    elif x > y:\n",
    "        print(\"x is greater than y\")\n",
    "    elif x == y:\n",
    "        print(\"x is equal to y\")\n",
    "\n",
    "# Try it yourself and interchange the values to see how the output of each function call changes\n",
    "compare(25, 18)\n",
    "compare(10, 15)\n",
    "compare(33, 33)"
   ]
  },
  {
   "cell_type": "markdown",
   "id": "5a911f87",
   "metadata": {},
   "source": [
    "## **Conclusion**"
   ]
  },
  {
   "cell_type": "markdown",
   "id": "2e659630",
   "metadata": {},
   "source": [
    "The activities above give a good representation of the fundamentals that are taught in CS2400. Data Types, Loops, Functions, and Control Flow are all powerful coding concepts that when combined will enable students to design and implement their own projects. There are many projects throughout the course that are meant to solidify students understanding of C++ concepts which will be essential for success in future courses such as Data structures (CS 3610).   "
   ]
  }
 ],
 "metadata": {
  "kernelspec": {
   "display_name": "Python 3 (ipykernel)",
   "language": "python",
   "name": "python3"
  },
  "language_info": {
   "codemirror_mode": {
    "name": "ipython",
    "version": 3
   },
   "file_extension": ".py",
   "mimetype": "text/x-python",
   "name": "python",
   "nbconvert_exporter": "python",
   "pygments_lexer": "ipython3",
   "version": "3.9.9"
  }
 },
 "nbformat": 4,
 "nbformat_minor": 5
}
