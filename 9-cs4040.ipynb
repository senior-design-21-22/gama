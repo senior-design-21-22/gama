{
 "cells": [
  {
   "cell_type": "code",
   "execution_count": null,
   "id": "b3265b45-6726-46c5-a530-3375be1d2938",
   "metadata": {},
   "outputs": [],
   "source": []
  },
  {
   "cell_type": "markdown",
   "id": "360288bf-e1a6-453f-a675-9d5a529a4806",
   "metadata": {},
   "source": [
    "## **Course Description**\n"
   ]
  },
  {
   "cell_type": "markdown",
   "id": "7a983439-4bf9-450e-a3eb-db798e420ca3",
   "metadata": {},
   "source": [
    "CS 4040 - Design and Analysis of Algorithms is one of the more challenging courses in the computer science cirriculum here at Ohio University. As a student in this course one of the most important topics you will learn about is how to analyze the complexity and correctness of different algorithms. Learning about the fundementals of algorithm analysis in the first half of the course will help you succeed in the second half of the course where topics like dynamic programming, greedy algorithms, and divide and conquer algorithms are covered. Great algorithm design and analysis skills are of some of the most important outcomes as a student in computer science and this is why there is an entire course dedicated to this area. This course will test your skills to the fullest and challenge you to become an expert in algorithms design and analysis. "
   ]
  },
  {
   "cell_type": "markdown",
   "id": "f52e03d4-1f17-4815-825d-e70291634292",
   "metadata": {},
   "source": [
    "## **What You'll Learn**"
   ]
  },
  {
   "cell_type": "code",
   "execution_count": null,
   "id": "f8f1bcd4-d899-4ec3-b263-0dda610b8e03",
   "metadata": {},
   "outputs": [],
   "source": []
  }
 ],
 "metadata": {
  "kernelspec": {
   "display_name": "Python 3 (ipykernel)",
   "language": "python",
   "name": "python3"
  },
  "language_info": {
   "codemirror_mode": {
    "name": "ipython",
    "version": 3
   },
   "file_extension": ".py",
   "mimetype": "text/x-python",
   "name": "python",
   "nbconvert_exporter": "python",
   "pygments_lexer": "ipython3",
   "version": "3.9.9"
  }
 },
 "nbformat": 4,
 "nbformat_minor": 5
}
