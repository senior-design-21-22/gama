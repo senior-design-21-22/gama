{
 "cells": [
  {
   "cell_type": "markdown",
   "id": "e452942d-c67d-4aba-9e11-699ff6e7a06b",
   "metadata": {},
   "source": [
    "![cs2400 logo](images/cs4100Intro.png)"
   ]
  },
  {
   "cell_type": "markdown",
   "id": "fab1804d-9f68-4ab2-99ed-d6d2148cead6",
   "metadata": {},
   "source": [
    "## **Course Description**\n",
    "\n",
    "In this class you can expect to learn practical and formal aspects of computing related to the lexical and syntactic analysis stages of compilation explored. Relationships among regular expressions, deterministic finite automata, and nondeterministic finite automata presented. Relationship between context-free grammars and pushdown automata also explored. Practical parsing algorithms examined, including bottom-up, town-down, and recursive descent strategies. These are all different things that can all be implemented in a compiler. Throughout the class you will learn how to design a compiler with all of these aspects in mind and learn how to use these tools to your advantage when creating it."
   ]
  },
  {
   "cell_type": "markdown",
   "id": "3548c7c2-d749-42e5-a021-44d8fdd701d5",
   "metadata": {},
   "source": [
    "## **Learning Outcomes**\n",
    "- Students will be able to determine whether a given language is recognizable (e.g., by a regular expression, deterministic finite automaton, or context-free grammar).\n",
    "- Students will be able to construct a finite state machine to recognize a given language.\n",
    "- Students will be able to apply computer science theory to determine whether a given grammar is parseable by recursive descent.\n",
    "- Students will be able to appraise the tradeoffs, in terms of asymptotic complexity and precision, of distinct algorithms used in compiler construction (e.g., for garbage collection).\n",
    "- Students will be able to construct a compiler, over the course of a series of course assignments, for a small programming language."
   ]
  },
  {
   "cell_type": "markdown",
   "id": "b91af478-7978-4431-9c04-5e689c0ae443",
   "metadata": {},
   "source": [
    "## **What You'll Learn**"
   ]
  },
  {
   "cell_type": "markdown",
   "id": "4217691d-1e8c-471c-a68b-9b65efe2bbd1",
   "metadata": {},
   "source": [
    "### **Rust, Ownership and borrowing:**\n",
    "In this class we are exposed to a new programming language called Rust. Rust is an open-source programming language that is used for primarily for system programming and focuses on efficiency, parallelism, and memory safety. Here we focus on memory safety aspects of Rust. Two things that help with memory safety is Ownership and Borrowing. \n",
    "\n",
    "Ownership talks about who owns a piece of new memory on the stack. Down below res is the owner of the new box of type Dummy. This means that no other owner can change the contents of that memory other than res. Now if we want other functions or variables to have access to that memory we can do something in rust which is called borrowing. This means that the new function can \"borrow\" the value from the owner so it can use it. If a function or variable is borrowing they are not allowed to change its value. This is to keep the memory safe when being shared with other functions. In rust an owner of memory can share its memory with as many functions as it would like. Down below you can see in the function bar there is a commented out line that tries to change the value of new_res. Try uncommenting the line and see what happens.\n"
   ]
  },
  {
   "cell_type": "code",
   "execution_count": 2,
   "id": "1e1d9502-1faf-4a03-9058-830fcc7818af",
   "metadata": {},
   "outputs": [
    {
     "name": "stdout",
     "output_type": "stream",
     "text": [
      "0\n",
      "0\n"
     ]
    },
    {
     "data": {
      "text/plain": [
       "()"
      ]
     },
     "execution_count": 2,
     "metadata": {},
     "output_type": "execute_result"
    }
   ],
   "source": [
    "struct Dummy { a: i32, b: i32 }\n",
    "\n",
    "fn bar(new_res: Box<Dummy>) {\n",
    "    // new_res.a = 1;\n",
    "    println!(\"{}\", new_res.a);\n",
    "    println!(\"{}\", new_res.b);\n",
    "}\n",
    "fn foo() {\n",
    "    let res = Box::new(Dummy {a: 0, b: 0});\n",
    "    bar(res);\n",
    "}\n",
    "foo()\n"
   ]
  },
  {
   "cell_type": "markdown",
   "id": "0e5c6b17-37fb-43df-b392-6fa55fe6f66c",
   "metadata": {},
   "source": [
    "Now if we did want to change the variable in a function like above we will have to declare the variable as mutable. When you do this there are other rules about sharing the variable with other functions. Because the variable is mutable, this means that borrowers can change the memory that you shared with them. Due to the fact that borrowers can change memory, you can no longer share your memory with multiple functions at the same time. This is to keep the memory safe and prevent data races. Down below you can see a working mutable version of the program above."
   ]
  },
  {
   "cell_type": "code",
   "execution_count": 7,
   "id": "a1c463d9-8b3c-4cf1-a03d-d81ff9c2d4b5",
   "metadata": {},
   "outputs": [
    {
     "name": "stdout",
     "output_type": "stream",
     "text": [
      "10\n",
      "-7\n"
     ]
    },
    {
     "data": {
      "text/plain": [
       "()"
      ]
     },
     "execution_count": 7,
     "metadata": {},
     "output_type": "execute_result"
    }
   ],
   "source": [
    "struct Dummy { a: i32, b: i32 }\n",
    "\n",
    "fn bar(new_res: &mut Box<Dummy>) {\n",
    "    new_res.a = 10;\n",
    "    new_res.b = -7;\n",
    "    println!(\"{}\", new_res.a);\n",
    "    println!(\"{}\", new_res.b);\n",
    "}\n",
    "fn foo() {\n",
    "    let mut res = Box::new(Dummy {a: 0, b: 0});\n",
    "    bar(&mut res);\n",
    "}\n",
    "foo()\n"
   ]
  },
  {
   "cell_type": "markdown",
   "id": "af4e94e1-e26d-4bb0-8b40-91a4eb91c534",
   "metadata": {},
   "source": [
    "### **Regular Expressions:**\n",
    "\n",
    "A Regular Expression in computer science is a list of characters that match some pattern. They can be used for many different things such as data validation, data scraping, data wrangling, simple parsing, and string validation. In our class we mainly used them for string validation to see if a string was in a given language that we created. Some examples of this might be when making a compiler you might want to have and error if you were expecting to receive a date in the format of \"2021-01-01\" but instead received \"01-01-2021\" you would want your compiler to throw an error that way you don’t pass in the poorly formatted date. Down below are a few examples of how a regular expression could be used."
   ]
  },
  {
   "cell_type": "code",
   "execution_count": 5,
   "id": "0fced2ca-ef3c-430f-8124-eaf7533e472b",
   "metadata": {},
   "outputs": [
    {
     "name": "stdout",
     "output_type": "stream",
     "text": [
      "Match 1 is true\n",
      "Match 2 is false\n"
     ]
    }
   ],
   "source": [
    "extern crate regex;\n",
    "use regex::Regex;\n",
    "let re = Regex::new(r\"^\\d{4}-\\d{2}-\\d{2}$\").unwrap();\n",
    "println!(\"Match 1 is {}\",re.is_match(\"2021-01-01\"));\n",
    "println!(\"Match 2 is {}\",re.is_match(\"01-01-2021\"));\n"
   ]
  },
  {
   "cell_type": "code",
   "execution_count": 6,
   "id": "c903006d-6820-41c6-b8ee-a9d1778ad72e",
   "metadata": {},
   "outputs": [
    {
     "name": "stdout",
     "output_type": "stream",
     "text": [
      "Match 1 is true\n",
      "Match 2 is false\n"
     ]
    }
   ],
   "source": [
    "extern crate regex;\n",
    "use regex::Regex;\n",
    "let re = Regex::new(r\"^[A-Za-z]+ \\d{2}, \\d{4}$\").unwrap();\n",
    "println!(\"Match 1 is {}\",re.is_match(\"November 03, 2021\"));\n",
    "println!(\"Match 2 is {}\",re.is_match(\"01-01-2021\"));\n"
   ]
  },
  {
   "cell_type": "markdown",
   "id": "8f830883-4ceb-4fc7-8194-a4fd10f3a9b7",
   "metadata": {},
   "source": [
    "See if you can write some expression that would match this regex"
   ]
  },
  {
   "cell_type": "code",
   "execution_count": 47,
   "id": "d38c79c6-bded-48d6-b0fd-5184bff31493",
   "metadata": {},
   "outputs": [
    {
     "name": "stdout",
     "output_type": "stream",
     "text": [
      "Match 1 is true\n",
      "Match 2 is false\n",
      "Match 3 is false\n",
      "Match 4 is false\n",
      "\n",
      "Challange can you change the regex to match this string: false\n"
     ]
    }
   ],
   "source": [
    "use regex::Regex;\n",
    "let re = Regex::new(r\"^[A-Za-z]+ \\d{1}$\").unwrap();\n",
    "println!(\"Match 1 is {}\",re.is_match(\"Example 1\"));\n",
    "println!(\"Match 2 is {}\",re.is_match(\"You answe here\"));\n",
    "println!(\"Match 3 is {}\",re.is_match(\"You answe here\"));\n",
    "println!(\"Match 4 is {}\",re.is_match(\"You answe here\"));\n",
    "println!(\"\\nChallange can you change the regex to match this string: {}\",re.is_match(\"34 FirstNama 43\"));"
   ]
  },
  {
   "cell_type": "markdown",
   "id": "de4e98a8-3d91-42fb-a254-2c1bc76d257a",
   "metadata": {},
   "source": [
    "### **Finite Automata:**\n",
    "- Finite Automata (FA) is the simplest machine to recognize patterns. The FA or finite state machine is an abstract machine consisting of five elements or tuples. It has a set of states and rules for moving from one state to another but it all depends on the applied input symbol the machine is given. Basically, FA is an abstract model of a digital computer. <br>\n",
    "- There are five key features involved in FA:\n",
    "     - Input\n",
    "     - Output\n",
    "     - States of automata\n",
    "     - State relation\n",
    "     - Output relation\n",
    "- Finite Automata (FA) is characterized into **two types**:\n",
    ">    1. **Deterministic FA (DFA)**\n",
    ">        - In a DFA, for a particular input character, the machine goes to one state only. A transition function is defined on every state for every input symbol. Also in DFA null (or ε) move is not allowed, i.e., DFA cannot change state without any input character\n",
    ">        - One important thing to not is, there can be many possible DFA's for a pattern. A DFA with a minimum number of states is generally preferred.\n",
    ">    2. **Non-Deterministic FA (NFA)**\n",
    ">        - NFA is similar to DFA except for the following additional features\n",
    ">            1. Null move is allowed (it can not move forward without reading symbols)\n",
    ">            2. Ability to transmit to any number of states for a particular input\n",
    ">        - However, these above features don’t add any power to NFA. If we compare both in terms of power, both are equivalent.\n",
    "- **Why** do we learn about Automata and Automata Theory?\n",
    "    - Automata Theory is an exciting, theoretical branch of Computer Science\n",
    "    - The word automaton itself, closely related to the word \"automation\", denotes automatic processes carrying out the production of specific processes. Simply stated, automata theory deals with the logic of computation with respect to simple machines, referred to as automata.\n",
    "    - Through Automata, computer scientists are able to understand how machines compute functions and solve problems and more importantly, what it means for a function to be defined as computable or for a question to be described as decidable \n"
   ]
  },
  {
   "cell_type": "markdown",
   "id": "fb29a3bd-6dac-477e-9108-95990d7e3eca",
   "metadata": {},
   "source": [
    "## **Conclusion**"
   ]
  },
  {
   "cell_type": "markdown",
   "id": "5af4dfe9-18b5-4e5b-8ff3-4cf8e1b8a8f7",
   "metadata": {},
   "source": [
    "Through this notebook we covered a small glimpse of what you could see in the compilers class here at Ohio University. We covered some introduction to the programming language Rust which is what we have used here at Ohio University for the reasons of easier memory management and great documentation. We have also covered Regular Expressions which can be very useful when creating compilers to check to make sure you are getting the correct. You will learn much more in the compilers class at Ohio University with further look into fully creating a compiler and gaining a full understand of the subject matter."
   ]
  }
 ],
 "metadata": {
  "kernelspec": {
   "display_name": "Python 3",
   "language": "python",
   "name": "python3"
  },
  "language_info": {
   "codemirror_mode": {
    "name": "ipython",
    "version": 3
   },
   "file_extension": ".py",
   "mimetype": "text/x-python",
   "name": "python",
   "nbconvert_exporter": "python",
   "pygments_lexer": "ipython3",
   "version": "3.8.2"
  }
 },
 "nbformat": 4,
 "nbformat_minor": 5
}
