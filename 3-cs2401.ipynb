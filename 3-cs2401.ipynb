{
 "cells": [
  {
   "cell_type": "markdown",
   "id": "f9b114ef-c3ff-49f7-a6d5-effbc874e45a",
   "metadata": {},
   "source": [
    "![CS 2401 Logo](images/cs2401.png)"
   ]
  },
  {
   "cell_type": "markdown",
   "id": "5b94258b-ac5c-4b71-9a1f-4e1349439997",
   "metadata": {},
   "source": [
    "## **Course Description**\n",
    "CS 2401 will be a continuation of the programming that you will learn about in CS 2400, but with a concentration on the development of larger projects and the design process. In this class, you will be looking at the different ways that classes can hold data in ways that are versatile and useful, including dynamic arrays, linked lists, and inheritance - which is a powerful feature in object-oriented programming. Other topics  include design of software using UML, generic programming (templates), stacks, queues, container classes and iterators, derived classes, and virtual functions. During the final weeks of this class, you will be developing a single big project, which will be some type of board game.  This will be a program where the computer will play an “intelligent” game against a human opponent. It will be while you are working on your game that you will also learn about recursion and binary trees."
   ]
  },
  {
   "cell_type": "markdown",
   "id": "ccee20ea-3eed-47de-99eb-9b3ffb4859dd",
   "metadata": {},
   "source": [
    "## **What You'll Learn:**"
   ]
  },
  {
   "cell_type": "markdown",
   "id": "b610da31-a9aa-469f-8253-841b3a812a75",
   "metadata": {},
   "source": [
    "### **Binary Trees**\n",
    "\n",
    "In computer science, a binary tree is a special kind of data structure used to store data in an efficient way. Each 'node' in a binary tree contains a value, and has pointers containing values of two children - a left child, and a right child. In a binary search tree, the left child's value is less than its parent, and the right child's value is greater than its parent. Binary search trees are a type of binary tree used for sorting and searching numbers in a quick way.\n",
    "\n",
    "Below is an example of a self-sorting binary tree implemented in Python. Modify the numbers in the tree.add() statements at the bottom to see if the tree will put the numbers in a sorted order."
   ]
  },
  {
   "cell_type": "code",
   "execution_count": 4,
   "id": "36787250-af15-41d9-ba24-7571ec40c594",
   "metadata": {},
   "outputs": [
    {
     "name": "stdout",
     "output_type": "stream",
     "text": [
      "0 \n",
      "2 \n",
      "3 \n",
      "10 \n",
      "800 \n"
     ]
    }
   ],
   "source": [
    "# Definition of a Node\n",
    "class Node:\n",
    "    def __init__(self, val):\n",
    "        self.l = None\n",
    "        self.r = None\n",
    "        self.v = val\n",
    "\n",
    "# Definition of a Tree\n",
    "class Tree:\n",
    "    def __init__(self):\n",
    "        self.root = None\n",
    "\n",
    "    def getRoot(self):\n",
    "        return self.root\n",
    "\n",
    "    def add(self, val):\n",
    "        if self.root is None:\n",
    "            self.root = Node(val)\n",
    "        else:\n",
    "            self._add(val, self.root)\n",
    "\n",
    "    def _add(self, val, node):\n",
    "        if val < node.v:\n",
    "            if node.l is not None:\n",
    "                self._add(val, node.l)\n",
    "            else:\n",
    "                node.l = Node(val)\n",
    "        else:\n",
    "            if node.r is not None:\n",
    "                self._add(val, node.r)\n",
    "            else:\n",
    "                node.r = Node(val)\n",
    "\n",
    "    def printTree(self):\n",
    "        if self.root is not None:\n",
    "            self._printTree(self.root)\n",
    "\n",
    "    def _printTree(self, node):\n",
    "        if node is not None:\n",
    "            self._printTree(node.l)\n",
    "            print(str(node.v) + ' ')\n",
    "            self._printTree(node.r)\n",
    "\n",
    "tree = Tree()\n",
    "tree.add(3)\n",
    "tree.add(2)\n",
    "tree.add(0)\n",
    "tree.add(800)\n",
    "tree.add(10)\n",
    "tree.printTree()"
   ]
  },
  {
   "cell_type": "markdown",
   "id": "d183403e-3e1e-45dd-ad34-860e606b77e1",
   "metadata": {},
   "source": [
    "### **Recursion**\n",
    "\n",
    "In computer science, recursion is simply when a function has a call to itself. All recursive functions have a base case and a recursive case. The base case is used in order to stop the recursion and return a value. The recursive case returns a call to the same function to continue to produce the desired output. Each time a recursive function is called, that function call is placed on the run time call stack.\n",
    "\n",
    "Listed below is an example of a recursive factorial function. Recall - A factorial of a number is that number multiplied by all the integers (greater than 0) below that number. Change the num to a positive integer value to see its factorial."
   ]
  },
  {
   "cell_type": "code",
   "execution_count": 2,
   "id": "59181b7a-eee6-4131-a76a-39a6feeed15e",
   "metadata": {},
   "outputs": [
    {
     "name": "stdout",
     "output_type": "stream",
     "text": [
      "The factorial of 5 is 120\n"
     ]
    }
   ],
   "source": [
    "def factorial(x):\n",
    "    if x == 1:\n",
    "        return 1\n",
    "    else:\n",
    "        return (x * factorial(x-1))\n",
    "\n",
    "num = 5\n",
    "print(\"The factorial of\", num, \"is\", factorial(num))"
   ]
  },
  {
   "cell_type": "markdown",
   "id": "98a6bbbc-c6f1-40cb-9a4c-aa42ec547ca4",
   "metadata": {},
   "source": [
    "### **Linked Lists**\n",
    "\n",
    "A linked list is a list of nodes that store data in a specific order. Each node consists of a datafield that stores a desired value, and a pointer that links that node to the next node. The last node in a linked list contains a pointer to NULL - indicating that the list stops. In a double linked list, each node contains another pointer going to the node before it. \n",
    "\n",
    "Below is an example of a simple linked list containing an order of a few MLB teams. Add a few more nodes to the linked list. Be sure to link them together (follow the example)."
   ]
  },
  {
   "cell_type": "code",
   "execution_count": 6,
   "id": "daa44a26-6159-4d5d-a0ea-271039fa238c",
   "metadata": {},
   "outputs": [
    {
     "name": "stdout",
     "output_type": "stream",
     "text": [
      "Pirates\n",
      "Reds\n",
      "Braves\n"
     ]
    }
   ],
   "source": [
    "class Node:\n",
    "   def __init__(self, dataval=None):\n",
    "      self.dataval = dataval\n",
    "      self.nextval = None\n",
    "\n",
    "class SLinkedList:\n",
    "   def __init__(self):\n",
    "      self.headval = None\n",
    "\n",
    "   def listprint(self):\n",
    "      printval = self.headval\n",
    "      while printval is not None:\n",
    "         print (printval.dataval)\n",
    "         printval = printval.nextval\n",
    "\n",
    "list = SLinkedList()\n",
    "list.headval = Node(\"Pirates\")\n",
    "e2 = Node(\"Reds\")\n",
    "e3 = Node(\"Braves\")\n",
    "\n",
    "# Link first Node to second node\n",
    "list.headval.nextval = e2\n",
    "\n",
    "# Link second Node to third node\n",
    "e2.nextval = e3\n",
    "\n",
    "list.listprint()"
   ]
  },
  {
   "cell_type": "markdown",
   "id": "9cb0af9b-549f-4de6-a44b-be617e6fea45",
   "metadata": {},
   "source": [
    "### **Inheritance**\n",
    "\n",
    "In computer science, inheritance is the ability of an object to inherit (or use) multiple characteristics (datatypes, functions, etc) of a different object. Consider the folloing example implemented in Python:\n",
    "\n",
    "In this example, Person is a class containing two string values - a first name and a last name. There is also another class - Student. A student is a person and should also have a first and last name. Instead of redefining more first and last name variables for the Student class, we can use inheritence to automatically overload the same datafields as the person class to the Student class. Now, using inheritance, each student class has the same first and last name variables as the Person class. In this example, in the Student class, there is also an added separate data field (in the Student class only)- a graduation year, containing the year that the Student graduates. \n",
    "\n",
    "Run the example to view the output.\n",
    "A person has a first and last name.\n",
    "A student has a first and last name (from inheritance), and also a graduation year."
   ]
  },
  {
   "cell_type": "code",
   "execution_count": 4,
   "id": "0b6c0496-6468-46fc-8a91-c2e5c2399b44",
   "metadata": {},
   "outputs": [
    {
     "name": "stdout",
     "output_type": "stream",
     "text": [
      "Bryan Reynolds\n",
      "\n",
      "STUDENT: Jacob Smith -- Gradutating in: 2019\n"
     ]
    }
   ],
   "source": [
    "class Person:\n",
    "  def __init__(self, fname, lname):\n",
    "    self.firstname = fname\n",
    "    self.lastname = lname\n",
    "\n",
    "  def printname(self):\n",
    "    print(self.firstname, self.lastname)\n",
    "\n",
    "#Use the Person class to create an object, and then execute the printname method:\n",
    "\n",
    "x = Person(\"Bryan\", \"Reynolds\\n\")\n",
    "x.printname()\n",
    "\n",
    "class Student(Person):\n",
    "  def __init__(self, fname, lname):\n",
    "    super().__init__(fname, lname)\n",
    "    self.graduationyear = 2019\n",
    "    \n",
    "  def printname(self):\n",
    "    print(\"STUDENT:\", self.firstname, self.lastname, \"-- Gradutating in:\", self.graduationyear)\n",
    "    \n",
    "y = Student(\"Jacob\", \"Smith\")\n",
    "y.printname()"
   ]
  },
  {
   "cell_type": "markdown",
   "id": "cbf01961-d3d7-4fda-b1b0-a417ad6b34ca",
   "metadata": {},
   "source": [
    "## **Class Information**\n",
    "**Requisites:** CS 2400 and (MATH 1300 or 2301 or Math Placement Level 3)\n",
    "\n",
    "**Credit Hours:** 4\n",
    "\n",
    "**Repeat/Retake Information:** May be retaken two times excluding withdrawals, but only last course taken counts.\n",
    "\n",
    "**Lecture/Lab Hours:** 3.0 lecture, 2.0 laboratory\n",
    "\n",
    "**Grades:** Eligible Grades: A-F,WP,WF,WN,FN,AU,I"
   ]
  },
  {
   "cell_type": "markdown",
   "id": "5c5bb1ac-d1ee-4736-b57d-314cb40c6b3d",
   "metadata": {},
   "source": [
    "## **Conclusion**"
   ]
  },
  {
   "cell_type": "markdown",
   "id": "e3c894fd-2bab-4ac1-8e2c-c142334ef930",
   "metadata": {},
   "source": [
    "CS 2401 is a very important course within the Ohio University Computer Science program. In this class, you will learn about many programming methods and techniques that are used every day in the real world. Also, you will gain key experience in implementing your first OU CS final project. This final project involves a board game (Othello, Checkers, etc) in which a user will play against the CPU using artificial intelligance."
   ]
  }
 ],
 "metadata": {
  "kernelspec": {
   "display_name": "Python 3 (ipykernel)",
   "language": "python",
   "name": "python3"
  },
  "language_info": {
   "codemirror_mode": {
    "name": "ipython",
    "version": 3
   },
   "file_extension": ".py",
   "mimetype": "text/x-python",
   "name": "python",
   "nbconvert_exporter": "python",
   "pygments_lexer": "ipython3",
   "version": "3.9.9"
  }
 },
 "nbformat": 4,
 "nbformat_minor": 5
}
