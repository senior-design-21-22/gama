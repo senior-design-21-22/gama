{
 "cells": [
  {
   "cell_type": "markdown",
   "id": "349a0cec-80c5-4f06-b119-6310d0c06105",
   "metadata": {
    "tags": []
   },
   "source": [
    "![cs3000 logo](images/cs3610.PNG)"
   ]
  },
  {
   "cell_type": "markdown",
   "id": "38302c7b-3b9c-4320-8e2e-6bbdaec460c5",
   "metadata": {},
   "source": [
    "## **Course Description**\n"
   ]
  },
  {
   "cell_type": "markdown",
   "id": "30597660-eeb3-4693-b193-10fa0635b40f",
   "metadata": {},
   "source": [
    "This course will teach you about Data Structures, the algoritms associated with them, and analysis of the algorithms themselves. Topics discussed within the class include algorithm analysis, dynamic arrays, tree structures, heaps, balanced trees, dictionaries, and complexity sorting. Once students recieve a core understanding of Data Structures, built in algorithms and structures are introduced in modern programming languages. CS 3610 provides a foundation that can be used within every class within the computer science curriculum. Throughout the course there will be plenty of projects and a weekly lab which will allow you to implement the information learned within lecture. Here we will implement a dynamic array and an insertion sort which will give a brief introduction to the topics discussed. "
   ]
  },
  {
   "cell_type": "markdown",
   "id": "f9b63204-18bf-4800-ab29-48bde87b9e2f",
   "metadata": {},
   "source": [
    "## **What You'll Learn**"
   ]
  },
  {
   "cell_type": "markdown",
   "id": "32587a84-006d-46e0-be39-2fb855479145",
   "metadata": {},
   "source": [
    "### **Dynamic Arrays**"
   ]
  },
  {
   "cell_type": "markdown",
   "id": "f9b80a80-cbac-4880-a4d8-230060de38cb",
   "metadata": {},
   "source": [
    "A dynamic array is similar to an array, but with the difference that its size can be dynamically modified at runtime. Don’t need to specify how much large an array beforehand. The elements of an array occupy a contiguous block of memory, and once created, its size cannot be changed. A dynamic array can, once the array is filled, allocate a bigger chunk of memory, copy the contents from the original array to this new space, and continue to fill the available slots.\n",
    "\n",
    "Dynamic Array Logic\n",
    "   - Allocate a new array B with larger capacity\n",
    "   - Set B[i]=A[i], for i=0 to n-1 where n denotes the current number of items\n",
    "   - Set A=B that is, we hence forth use B as the array of supporting list\n",
    "   - Insert new element in the new array"
   ]
  },
  {
   "cell_type": "code",
   "execution_count": 4,
   "id": "bd607a5c-d40c-4453-a2af-c3505088e95f",
   "metadata": {},
   "outputs": [],
   "source": [
    "import ctypes\n",
    "class DynamicArray(object):\n",
    "    '''\n",
    "    DYNAMIC ARRAY CLASS (Similar to Python List)\n",
    "    '''\n",
    "    def __init__(self):\n",
    "        self.n = 0 # Count actual elements (Default is 0)\n",
    "        self.capacity = 1 # Default Capacity\n",
    "        self.A = self.make_array(self.capacity)\n",
    "          \n",
    "    def __len__(self):\n",
    "        \"\"\"\n",
    "        Return number of elements sorted in array\n",
    "        \"\"\"\n",
    "        return self.n\n",
    "      \n",
    "    def __getitem__(self, k):\n",
    "        \"\"\"\n",
    "        Return element at index k\n",
    "        \"\"\"\n",
    "        if not 0 <= k <self.n:\n",
    "            # Check it k index is in bounds of array\n",
    "            return IndexError('K is out of bounds !') \n",
    "          \n",
    "        return self.A[k] # Retrieve from the array at index k\n",
    "          \n",
    "    def append(self, ele):\n",
    "        \"\"\"\n",
    "        Add element to end of the array\n",
    "        \"\"\"\n",
    "        if self.n == self.capacity:\n",
    "            # Double capacity if not enough room\n",
    "            self._resize(2 * self.capacity) \n",
    "          \n",
    "        self.A[self.n] = ele # Set self.n index to element\n",
    "        self.n += 1\n",
    "  \n",
    "    def insertAt(self,item,index):\n",
    "        \"\"\"\n",
    "         This function inserts the item at any specified index.\n",
    "        \"\"\"\n",
    "          \n",
    "        if index<0 or index>self.n:\n",
    "            print(\"please enter appropriate index..\")\n",
    "            return\n",
    "          \n",
    "        if self.n==self.capacity:\n",
    "            self._resize(2*self.capacity)\n",
    "              \n",
    "          \n",
    "        for i in range(self.n-1,index-1,-1):\n",
    "            self.A[i+1]=self.A[i]\n",
    "              \n",
    "          \n",
    "        self.A[index]=item\n",
    "        self.n+=1\n",
    "    \n",
    "    def delete(self):\n",
    "        \"\"\"\n",
    "        This function deletes item from the end of array\n",
    "        \"\"\"\n",
    "  \n",
    "        if self.n==0:\n",
    "            print(\"Array is empty deletion not Possible\")\n",
    "            return\n",
    "          \n",
    "        self.A[self.n-1]=0\n",
    "        self.n-=1\n",
    "          \n",
    "    def removeAt(self,index):\n",
    "        \"\"\"\n",
    "        This function deletes item from a specified index..\n",
    "        \"\"\"        \n",
    "  \n",
    "        if self.n==0:\n",
    "            print(\"Array is empty deletion not Possible\")\n",
    "            return\n",
    "                  \n",
    "        if index<0 or index>=self.n:\n",
    "            return IndexError(\"Index out of bound....deletion not possible\")        \n",
    "          \n",
    "        if index==self.n-1:\n",
    "            self.A[index]=0\n",
    "            self.n-=1\n",
    "            return        \n",
    "          \n",
    "        for i in range(index,self.n-1):\n",
    "            self.A[i]=self.A[i+1]            \n",
    "              \n",
    "          \n",
    "        self.A[self.n-1]=0\n",
    "        self.n-=1\n",
    "  \n",
    "          \n",
    "    def _resize(self, new_cap):\n",
    "        \"\"\"\n",
    "        Resize internal array to capacity new_cap\n",
    "        \"\"\"\n",
    "          \n",
    "        B = self.make_array(new_cap) # New bigger array\n",
    "          \n",
    "        for k in range(self.n): # Reference all existing values\n",
    "            B[k] = self.A[k]\n",
    "              \n",
    "        self.A = B # Call A the new bigger array\n",
    "        self.capacity = new_cap # Reset the capacity\n",
    "          \n",
    "    def make_array(self, new_cap):\n",
    "        \"\"\"\n",
    "        Returns a new array with new_cap capacity\n",
    "        \"\"\"\n",
    "        return (new_cap * ctypes.py_object)()\n",
    "    \n",
    "    \n",
    "    "
   ]
  },
  {
   "cell_type": "code",
   "execution_count": null,
   "id": "3a2ab860-1a07-4a1c-8dfc-2435aca93420",
   "metadata": {},
   "outputs": [
    {
     "data": {
      "text/plain": [
       "1"
      ]
     },
     "execution_count": 7,
     "metadata": {},
     "output_type": "execute_result"
    }
   ],
   "source": [
    "# Instantiate\n",
    "arr = DynamicArray()\n",
    "# Append new element\n",
    "arr.append(1)\n",
    "len(arr)"
   ]
  },
  {
   "cell_type": "code",
   "execution_count": 8,
   "id": "8f2111f7-2d08-443f-ab16-ca30bd4739c0",
   "metadata": {},
   "outputs": [
    {
     "data": {
      "text/plain": [
       "2"
      ]
     },
     "execution_count": 8,
     "metadata": {},
     "output_type": "execute_result"
    }
   ],
   "source": [
    "# Append new element\n",
    "arr.append(2)\n",
    "# Check length\n",
    "len(arr)\n"
   ]
  },
  {
   "cell_type": "code",
   "execution_count": 15,
   "id": "f1f20527-585e-4bf3-b315-4036c49045bf",
   "metadata": {},
   "outputs": [
    {
     "data": {
      "text/plain": [
       "3"
      ]
     },
     "execution_count": 15,
     "metadata": {},
     "output_type": "execute_result"
    }
   ],
   "source": [
    "#index \n",
    "arr[0]"
   ]
  },
  {
   "cell_type": "code",
   "execution_count": 13,
   "id": "b972901f-e220-433d-9ff3-9910364cb970",
   "metadata": {},
   "outputs": [
    {
     "data": {
      "text/plain": [
       "2"
      ]
     },
     "execution_count": 13,
     "metadata": {},
     "output_type": "execute_result"
    }
   ],
   "source": [
    "#index\n",
    "arr[1]"
   ]
  },
  {
   "cell_type": "markdown",
   "id": "f3242af2-6fe4-4d26-a8a8-2d1b9bb874dc",
   "metadata": {},
   "source": [
    "We have successfully implemented a dynamic array, feel free to continue resizing to see how it works.  "
   ]
  },
  {
   "cell_type": "markdown",
   "id": "4112625b-538b-451f-bf0c-08e0009a8e41",
   "metadata": {},
   "source": [
    "### **Insertion Sort**"
   ]
  },
  {
   "cell_type": "markdown",
   "id": "1448a4c8-388f-42ed-8a53-90ba71b31e62",
   "metadata": {},
   "source": [
    "Insertion sort is a simple sorting algorithm that works similar to the way you sort playing cards in your hands. The array is virtually split into a sorted and an unsorted part. Values from the unsorted part are picked and placed at the correct position in the sorted part.\n",
    "\n",
    "Insertion Sort Logic\n",
    "   - Iterate from arr[1] to arr[n] over the array. \n",
    "   - Compare the current element (key) to its predecessor. \n",
    "   - If the key element is smaller than its predecessor, compare it to the elements before. Move the greater elements one position up to make space for the swapped element."
   ]
  },
  {
   "cell_type": "code",
   "execution_count": 18,
   "id": "ae094d8a-bda4-4504-bf54-054b183c9c5b",
   "metadata": {},
   "outputs": [
    {
     "name": "stdout",
     "output_type": "stream",
     "text": [
      "Sorted array is:\n",
      "2\n",
      "4\n",
      "10\n",
      "11\n",
      "15\n"
     ]
    }
   ],
   "source": [
    "  \n",
    "# Function to do insertion sort\n",
    "def insertionSort(arr):\n",
    "  \n",
    "    # Traverse through 1 to len(arr)\n",
    "    for i in range(1, len(arr)):\n",
    "        key = arr[i]\n",
    "        # Move elements of arr[0..i-1], that are\n",
    "        # greater than key, to one position ahead\n",
    "        # of their current position\n",
    "        j = i-1\n",
    "        while j >=0 and key < arr[j] :\n",
    "                arr[j+1] = arr[j]\n",
    "                j -= 1\n",
    "        arr[j+1] = key\n",
    "\n",
    "arr = [11, 10, 15, 4, 2]\n",
    "insertionSort(arr)\n",
    "print (\"Sorted array is:\")\n",
    "for i in range(len(arr)):\n",
    "    print (\"%d\" %arr[i])"
   ]
  },
  {
   "cell_type": "markdown",
   "id": "b6eeb637-b911-4134-9cd6-7a0d8133418b",
   "metadata": {},
   "source": [
    "### **Time Complexity**"
   ]
  },
  {
   "cell_type": "markdown",
   "id": "43f43639-d150-467a-b93a-fd557f8ff901",
   "metadata": {},
   "source": [
    "An important topic of discussion within Data Structures is time complexity which is defined as the number of times a particular instruction set is executed rather than the total time is taken. It is because the total time taken also depends on some external factors like the compiler used, processor’s speed, and other varying dependancies. \n",
    "\n",
    "Time complexity is most often described by using Big Oh notation which describes the limiting bounds of functions as they go towards a particular value or infinity. In our example of Linear Search we can say it operates at O(n^2) time. Which means with every insert there is n*n operations, a high amount of inserts results in a high operation time. This is why linear sort works best when dealing with small sample sizes. "
   ]
  },
  {
   "cell_type": "markdown",
   "id": "e5b0b50a-7817-4202-812c-a1242b5901dc",
   "metadata": {},
   "source": [
    "## **Conclusion**"
   ]
  },
  {
   "cell_type": "markdown",
   "id": "aa830892-9214-4639-8fb9-f318f238b921",
   "metadata": {},
   "source": [
    "Data Structures is a very comprehensive course, with the topics discussed above we can begin to scratch the surface of algorithms analysis and basic structures we can use within computer science. It is expected by the end of the course that students will gain an understanding of the average and worst case analysis of the standard sorting techniques and develop the ability to analyze simple iterative and recursive functions. Which are essential skills for success within our field. \n"
   ]
  }
 ],
 "metadata": {
  "interpreter": {
   "hash": "fe44fef87f92f48a3a32707d0df204585f471652bc0ce87358a3ce712bc24db0"
  },
  "kernelspec": {
   "display_name": "Python 3 (ipykernel)",
   "language": "python",
   "name": "python3"
  },
  "language_info": {
   "codemirror_mode": {
    "name": "ipython",
    "version": 3
   },
   "file_extension": ".py",
   "mimetype": "text/x-python",
   "name": "python",
   "nbconvert_exporter": "python",
   "pygments_lexer": "ipython3",
   "version": "3.9.9"
  }
 },
 "nbformat": 4,
 "nbformat_minor": 5
}
